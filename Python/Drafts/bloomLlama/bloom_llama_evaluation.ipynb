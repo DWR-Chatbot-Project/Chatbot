{
 "cells": [
  {
   "cell_type": "code",
   "execution_count": 2,
   "metadata": {
    "colab": {
     "base_uri": "https://localhost:8080/"
    },
    "id": "uSkcOdxXCfRs",
    "outputId": "2515ba80-5ee9-4b37-8f86-7e36608a4b64"
   },
   "outputs": [
    {
     "name": "stdout",
     "output_type": "stream",
     "text": [
      "Requirement already satisfied: pip in ./.conda/envs/default/lib/python3.9/site-packages (23.1.2)\n",
      "Requirement already satisfied: llama_index in ./.conda/envs/default/lib/python3.9/site-packages (0.6.6)\n",
      "Requirement already satisfied: dataclasses-json in ./.conda/envs/default/lib/python3.9/site-packages (from llama_index) (0.5.7)\n",
      "Requirement already satisfied: langchain>=0.0.154 in ./.conda/envs/default/lib/python3.9/site-packages (from llama_index) (0.0.167)\n",
      "Requirement already satisfied: numpy in ./.conda/envs/default/lib/python3.9/site-packages (from llama_index) (1.23.5)\n",
      "Requirement already satisfied: tenacity<9.0.0,>=8.2.0 in ./.conda/envs/default/lib/python3.9/site-packages (from llama_index) (8.2.2)\n",
      "Requirement already satisfied: openai>=0.26.4 in ./.conda/envs/default/lib/python3.9/site-packages (from llama_index) (0.27.2)\n",
      "Requirement already satisfied: pandas in ./.conda/envs/default/lib/python3.9/site-packages (from llama_index) (1.5.3)\n",
      "Requirement already satisfied: requests<2.30.0 in ./.conda/envs/default/lib/python3.9/site-packages (from llama_index) (2.28.2)\n",
      "Requirement already satisfied: tiktoken in ./.conda/envs/default/lib/python3.9/site-packages (from llama_index) (0.3.2)\n",
      "Requirement already satisfied: PyYAML>=5.4.1 in ./.conda/envs/default/lib/python3.9/site-packages (from langchain>=0.0.154->llama_index) (6.0)\n",
      "Requirement already satisfied: SQLAlchemy<3,>=1.4 in ./.conda/envs/default/lib/python3.9/site-packages (from langchain>=0.0.154->llama_index) (1.4.47)\n",
      "Requirement already satisfied: aiohttp<4.0.0,>=3.8.3 in ./.conda/envs/default/lib/python3.9/site-packages (from langchain>=0.0.154->llama_index) (3.8.4)\n",
      "Requirement already satisfied: async-timeout<5.0.0,>=4.0.0 in ./.conda/envs/default/lib/python3.9/site-packages (from langchain>=0.0.154->llama_index) (4.0.2)\n",
      "Requirement already satisfied: numexpr<3.0.0,>=2.8.4 in ./.conda/envs/default/lib/python3.9/site-packages (from langchain>=0.0.154->llama_index) (2.8.4)\n",
      "Requirement already satisfied: openapi-schema-pydantic<2.0,>=1.2 in ./.conda/envs/default/lib/python3.9/site-packages (from langchain>=0.0.154->llama_index) (1.2.4)\n",
      "Requirement already satisfied: pydantic<2,>=1 in ./.conda/envs/default/lib/python3.9/site-packages (from langchain>=0.0.154->llama_index) (1.10.7)\n",
      "Requirement already satisfied: tqdm>=4.48.0 in ./.conda/envs/default/lib/python3.9/site-packages (from langchain>=0.0.154->llama_index) (4.65.0)\n",
      "Requirement already satisfied: marshmallow<4.0.0,>=3.3.0 in ./.conda/envs/default/lib/python3.9/site-packages (from dataclasses-json->llama_index) (3.19.0)\n",
      "Requirement already satisfied: marshmallow-enum<2.0.0,>=1.5.1 in ./.conda/envs/default/lib/python3.9/site-packages (from dataclasses-json->llama_index) (1.5.1)\n",
      "Requirement already satisfied: typing-inspect>=0.4.0 in ./.conda/envs/default/lib/python3.9/site-packages (from dataclasses-json->llama_index) (0.8.0)\n",
      "Requirement already satisfied: charset-normalizer<4,>=2 in ./.conda/envs/default/lib/python3.9/site-packages (from requests<2.30.0->llama_index) (3.1.0)\n",
      "Requirement already satisfied: idna<4,>=2.5 in ./.conda/envs/default/lib/python3.9/site-packages (from requests<2.30.0->llama_index) (3.4)\n",
      "Requirement already satisfied: urllib3<1.27,>=1.21.1 in ./.conda/envs/default/lib/python3.9/site-packages (from requests<2.30.0->llama_index) (1.26.14)\n",
      "Requirement already satisfied: certifi>=2017.4.17 in ./.conda/envs/default/lib/python3.9/site-packages (from requests<2.30.0->llama_index) (2022.12.7)\n",
      "Requirement already satisfied: python-dateutil>=2.8.1 in ./.conda/envs/default/lib/python3.9/site-packages (from pandas->llama_index) (2.8.2)\n",
      "Requirement already satisfied: pytz>=2020.1 in ./.conda/envs/default/lib/python3.9/site-packages (from pandas->llama_index) (2022.7.1)\n",
      "Requirement already satisfied: regex>=2022.1.18 in ./.conda/envs/default/lib/python3.9/site-packages (from tiktoken->llama_index) (2022.10.31)\n",
      "Requirement already satisfied: attrs>=17.3.0 in ./.conda/envs/default/lib/python3.9/site-packages (from aiohttp<4.0.0,>=3.8.3->langchain>=0.0.154->llama_index) (22.1.0)\n",
      "Requirement already satisfied: multidict<7.0,>=4.5 in ./.conda/envs/default/lib/python3.9/site-packages (from aiohttp<4.0.0,>=3.8.3->langchain>=0.0.154->llama_index) (6.0.4)\n",
      "Requirement already satisfied: yarl<2.0,>=1.0 in ./.conda/envs/default/lib/python3.9/site-packages (from aiohttp<4.0.0,>=3.8.3->langchain>=0.0.154->llama_index) (1.8.2)\n",
      "Requirement already satisfied: frozenlist>=1.1.1 in ./.conda/envs/default/lib/python3.9/site-packages (from aiohttp<4.0.0,>=3.8.3->langchain>=0.0.154->llama_index) (1.3.3)\n",
      "Requirement already satisfied: aiosignal>=1.1.2 in ./.conda/envs/default/lib/python3.9/site-packages (from aiohttp<4.0.0,>=3.8.3->langchain>=0.0.154->llama_index) (1.3.1)\n",
      "Requirement already satisfied: packaging>=17.0 in ./.conda/envs/default/lib/python3.9/site-packages (from marshmallow<4.0.0,>=3.3.0->dataclasses-json->llama_index) (23.1)\n",
      "Requirement already satisfied: typing-extensions>=4.2.0 in ./.conda/envs/default/lib/python3.9/site-packages (from pydantic<2,>=1->langchain>=0.0.154->llama_index) (4.4.0)\n",
      "Requirement already satisfied: six>=1.5 in ./.conda/envs/default/lib/python3.9/site-packages (from python-dateutil>=2.8.1->pandas->llama_index) (1.16.0)\n",
      "Requirement already satisfied: greenlet!=0.4.17 in ./.conda/envs/default/lib/python3.9/site-packages (from SQLAlchemy<3,>=1.4->langchain>=0.0.154->llama_index) (2.0.2)\n",
      "Requirement already satisfied: mypy-extensions>=0.3.0 in ./.conda/envs/default/lib/python3.9/site-packages (from typing-inspect>=0.4.0->dataclasses-json->llama_index) (1.0.0)\n",
      "Requirement already satisfied: transformers in ./.conda/envs/default/lib/python3.9/site-packages (4.29.2)\n",
      "Requirement already satisfied: filelock in ./.conda/envs/default/lib/python3.9/site-packages (from transformers) (3.9.1)\n",
      "Requirement already satisfied: huggingface-hub<1.0,>=0.14.1 in ./.conda/envs/default/lib/python3.9/site-packages (from transformers) (0.14.1)\n",
      "Requirement already satisfied: numpy>=1.17 in ./.conda/envs/default/lib/python3.9/site-packages (from transformers) (1.23.5)\n",
      "Requirement already satisfied: packaging>=20.0 in ./.conda/envs/default/lib/python3.9/site-packages (from transformers) (23.1)\n",
      "Requirement already satisfied: pyyaml>=5.1 in ./.conda/envs/default/lib/python3.9/site-packages (from transformers) (6.0)\n",
      "Requirement already satisfied: regex!=2019.12.17 in ./.conda/envs/default/lib/python3.9/site-packages (from transformers) (2022.10.31)\n",
      "Requirement already satisfied: requests in ./.conda/envs/default/lib/python3.9/site-packages (from transformers) (2.28.2)\n",
      "Requirement already satisfied: tokenizers!=0.11.3,<0.14,>=0.11.1 in ./.conda/envs/default/lib/python3.9/site-packages (from transformers) (0.13.2)\n",
      "Requirement already satisfied: tqdm>=4.27 in ./.conda/envs/default/lib/python3.9/site-packages (from transformers) (4.65.0)\n",
      "Requirement already satisfied: fsspec in ./.conda/envs/default/lib/python3.9/site-packages (from huggingface-hub<1.0,>=0.14.1->transformers) (2023.3.0)\n",
      "Requirement already satisfied: typing-extensions>=3.7.4.3 in ./.conda/envs/default/lib/python3.9/site-packages (from huggingface-hub<1.0,>=0.14.1->transformers) (4.4.0)\n",
      "Requirement already satisfied: charset-normalizer<4,>=2 in ./.conda/envs/default/lib/python3.9/site-packages (from requests->transformers) (3.1.0)\n",
      "Requirement already satisfied: idna<4,>=2.5 in ./.conda/envs/default/lib/python3.9/site-packages (from requests->transformers) (3.4)\n",
      "Requirement already satisfied: urllib3<1.27,>=1.21.1 in ./.conda/envs/default/lib/python3.9/site-packages (from requests->transformers) (1.26.14)\n",
      "Requirement already satisfied: certifi>=2017.4.17 in ./.conda/envs/default/lib/python3.9/site-packages (from requests->transformers) (2022.12.7)\n",
      "Requirement already satisfied: panda in ./.conda/envs/default/lib/python3.9/site-packages (0.3.1)\n",
      "Requirement already satisfied: setuptools in ./.conda/envs/default/lib/python3.9/site-packages (from panda) (65.5.1)\n",
      "Requirement already satisfied: requests in ./.conda/envs/default/lib/python3.9/site-packages (from panda) (2.28.2)\n",
      "Requirement already satisfied: charset-normalizer<4,>=2 in ./.conda/envs/default/lib/python3.9/site-packages (from requests->panda) (3.1.0)\n",
      "Requirement already satisfied: idna<4,>=2.5 in ./.conda/envs/default/lib/python3.9/site-packages (from requests->panda) (3.4)\n",
      "Requirement already satisfied: urllib3<1.27,>=1.21.1 in ./.conda/envs/default/lib/python3.9/site-packages (from requests->panda) (1.26.14)\n",
      "Requirement already satisfied: certifi>=2017.4.17 in ./.conda/envs/default/lib/python3.9/site-packages (from requests->panda) (2022.12.7)\n",
      "Requirement already satisfied: numpy in ./.conda/envs/default/lib/python3.9/site-packages (1.23.5)\n",
      "Requirement already satisfied: torch in ./.conda/envs/default/lib/python3.9/site-packages (1.13.1)\n",
      "Requirement already satisfied: torchvision in ./.conda/envs/default/lib/python3.9/site-packages (0.14.1)\n",
      "Requirement already satisfied: torchaudio in ./.conda/envs/default/lib/python3.9/site-packages (0.13.1)\n",
      "Requirement already satisfied: typing-extensions in ./.conda/envs/default/lib/python3.9/site-packages (from torch) (4.4.0)\n",
      "Requirement already satisfied: nvidia-cuda-runtime-cu11==11.7.99 in ./.conda/envs/default/lib/python3.9/site-packages (from torch) (11.7.99)\n",
      "Requirement already satisfied: nvidia-cudnn-cu11==8.5.0.96 in ./.conda/envs/default/lib/python3.9/site-packages (from torch) (8.5.0.96)\n",
      "Requirement already satisfied: nvidia-cublas-cu11==11.10.3.66 in ./.conda/envs/default/lib/python3.9/site-packages (from torch) (11.10.3.66)\n",
      "Requirement already satisfied: nvidia-cuda-nvrtc-cu11==11.7.99 in ./.conda/envs/default/lib/python3.9/site-packages (from torch) (11.7.99)\n",
      "Requirement already satisfied: setuptools in ./.conda/envs/default/lib/python3.9/site-packages (from nvidia-cublas-cu11==11.10.3.66->torch) (65.5.1)\n",
      "Requirement already satisfied: wheel in ./.conda/envs/default/lib/python3.9/site-packages (from nvidia-cublas-cu11==11.10.3.66->torch) (0.38.4)\n",
      "Requirement already satisfied: numpy in ./.conda/envs/default/lib/python3.9/site-packages (from torchvision) (1.23.5)\n",
      "Requirement already satisfied: requests in ./.conda/envs/default/lib/python3.9/site-packages (from torchvision) (2.28.2)\n",
      "Requirement already satisfied: pillow!=8.3.*,>=5.3.0 in ./.conda/envs/default/lib/python3.9/site-packages (from torchvision) (9.4.0)\n",
      "Requirement already satisfied: charset-normalizer<4,>=2 in ./.conda/envs/default/lib/python3.9/site-packages (from requests->torchvision) (3.1.0)\n",
      "Requirement already satisfied: idna<4,>=2.5 in ./.conda/envs/default/lib/python3.9/site-packages (from requests->torchvision) (3.4)\n",
      "Requirement already satisfied: urllib3<1.27,>=1.21.1 in ./.conda/envs/default/lib/python3.9/site-packages (from requests->torchvision) (1.26.14)\n",
      "Requirement already satisfied: certifi>=2017.4.17 in ./.conda/envs/default/lib/python3.9/site-packages (from requests->torchvision) (2022.12.7)\n",
      "Requirement already satisfied: python-dotenv in ./.conda/envs/default/lib/python3.9/site-packages (1.0.0)\n"
     ]
    }
   ],
   "source": [
    "!pip install -U pip\n",
    "!pip install llama_index\n",
    "!pip install -U transformers\n",
    "!pip install panda\n",
    "!pip install numpy\n",
    "!pip install torch torchvision torchaudio\n",
    "!pip install langchain>=0.0.152\n",
    "!pip install python-dotenv"
   ]
  },
  {
   "cell_type": "code",
   "execution_count": 3,
   "metadata": {},
   "outputs": [],
   "source": [
    "%reload_ext dotenv\n",
    "%dotenv "
   ]
  },
  {
   "cell_type": "code",
   "execution_count": 4,
   "metadata": {
    "id": "Dpyu_2GYCkI5"
   },
   "outputs": [],
   "source": [
    "# Import necessary packages\n",
    "import pandas as pd, numpy as np\n",
    "import os, openai\n",
    "from transformers import GPT2Tokenizer, GPT2LMHeadModel\n",
    "\n",
    "\n",
    "os.environ['OPENAI_API_KEY'] = \"\""
   ]
  },
  {
   "attachments": {},
   "cell_type": "markdown",
   "metadata": {
    "tags": []
   },
   "source": [
    "#### Preparing the Dataset"
   ]
  },
  {
   "cell_type": "code",
   "execution_count": 5,
   "metadata": {
    "colab": {
     "base_uri": "https://localhost:8080/",
     "height": 755
    },
    "id": "Pw3EV9LwnjM_",
    "outputId": "3c8dc707-9f6c-456c-e8f2-b17bee1a7df2"
   },
   "outputs": [
    {
     "data": {
      "text/html": [
       "<div>\n",
       "<style scoped>\n",
       "    .dataframe tbody tr th:only-of-type {\n",
       "        vertical-align: middle;\n",
       "    }\n",
       "\n",
       "    .dataframe tbody tr th {\n",
       "        vertical-align: top;\n",
       "    }\n",
       "\n",
       "    .dataframe thead th {\n",
       "        text-align: right;\n",
       "    }\n",
       "</style>\n",
       "<table border=\"1\" class=\"dataframe\">\n",
       "  <thead>\n",
       "    <tr style=\"text-align: right;\">\n",
       "      <th></th>\n",
       "      <th>_id</th>\n",
       "      <th>chapter</th>\n",
       "      <th>article</th>\n",
       "      <th>title</th>\n",
       "      <th>paragraphText</th>\n",
       "    </tr>\n",
       "  </thead>\n",
       "  <tbody>\n",
       "    <tr>\n",
       "      <th>0</th>\n",
       "      <td>{'$oid': '6462e3dcae035d1237b105d5'}</td>\n",
       "      <td>Chapter 14. Water Permits</td>\n",
       "      <td>Article 4. Local Primacy Delegation</td>\n",
       "      <td>§ 64260. Workplans.</td>\n",
       "      <td>(a) Each local primacy agency shall develop an...</td>\n",
       "    </tr>\n",
       "    <tr>\n",
       "      <th>1</th>\n",
       "      <td>{'$oid': '6462e3ddae035d1237b105d6'}</td>\n",
       "      <td>Chapter 14. Water Permits</td>\n",
       "      <td>Article 4. Local Primacy Delegation</td>\n",
       "      <td>§ 64259. Program Management.</td>\n",
       "      <td>(a) A local primacy agency shall establish and...</td>\n",
       "    </tr>\n",
       "    <tr>\n",
       "      <th>2</th>\n",
       "      <td>{'$oid': '6462e3ddae035d1237b105d7'}</td>\n",
       "      <td>Chapter 14. Water Permits</td>\n",
       "      <td>Article 4. Local Primacy Delegation</td>\n",
       "      <td>§ 64258. Enforcement.</td>\n",
       "      <td>(a) A local primacy agency shall take enforcem...</td>\n",
       "    </tr>\n",
       "    <tr>\n",
       "      <th>7</th>\n",
       "      <td>{'$oid': '6462e3dfae035d1237b105dc'}</td>\n",
       "      <td>Chapter 16. California Waterworks Standards</td>\n",
       "      <td>Article 7. Additives</td>\n",
       "      <td>§ 64593. Use of Uncertified Chemicals, Materia...</td>\n",
       "      <td>(a) A water supplier may use a chemical, mater...</td>\n",
       "    </tr>\n",
       "    <tr>\n",
       "      <th>8</th>\n",
       "      <td>{'$oid': '6462e3dfae035d1237b105dd'}</td>\n",
       "      <td>Chapter 16. California Waterworks Standards</td>\n",
       "      <td>Article 7. Additives</td>\n",
       "      <td>§ 64590. Direct Additives.</td>\n",
       "      <td>(a) Annual product testing,\\n(b) Annual facili...</td>\n",
       "    </tr>\n",
       "    <tr>\n",
       "      <th>...</th>\n",
       "      <td>...</td>\n",
       "      <td>...</td>\n",
       "      <td>...</td>\n",
       "      <td>...</td>\n",
       "      <td>...</td>\n",
       "    </tr>\n",
       "    <tr>\n",
       "      <th>725</th>\n",
       "      <td>{'$oid': '6462e4feae035d1237b108aa'}</td>\n",
       "      <td>Chapter 16. California Waterworks Standards</td>\n",
       "      <td>Article 4. Materials and Installation of Water...</td>\n",
       "      <td>§ 64576. Air-Release, Air Vacuum, and Combinat...</td>\n",
       "      <td>(a) Installed such that its vent opening is ab...</td>\n",
       "    </tr>\n",
       "    <tr>\n",
       "      <th>726</th>\n",
       "      <td>{'$oid': '6462e4feae035d1237b108ab'}</td>\n",
       "      <td>Chapter 16. California Waterworks Standards</td>\n",
       "      <td>Article 4. Materials and Installation of Water...</td>\n",
       "      <td>§ 64575. Flushing.</td>\n",
       "      <td>(a) A flushing valve or blowoff shall be provi...</td>\n",
       "    </tr>\n",
       "    <tr>\n",
       "      <th>728</th>\n",
       "      <td>{'$oid': '6462e4ffae035d1237b108ad'}</td>\n",
       "      <td>Chapter 16. California Waterworks Standards</td>\n",
       "      <td>Article 4. Materials and Installation of Water...</td>\n",
       "      <td>§ 64572. Water Main Separation.</td>\n",
       "      <td>(a) New water mains and new supply lines shall...</td>\n",
       "    </tr>\n",
       "    <tr>\n",
       "      <th>729</th>\n",
       "      <td>{'$oid': '6462e4ffae035d1237b108ae'}</td>\n",
       "      <td>Chapter 16. California Waterworks Standards</td>\n",
       "      <td>Article 4. Materials and Installation of Water...</td>\n",
       "      <td>§ 64570. Materials and Installation.</td>\n",
       "      <td>(a) All newly installed water mains shall comp...</td>\n",
       "    </tr>\n",
       "    <tr>\n",
       "      <th>767</th>\n",
       "      <td>{'$oid': '6462e50dae035d1237b108d4'}</td>\n",
       "      <td>Chapter 17. Surface Water Treatment</td>\n",
       "      <td>Article 1. General Requirements and Definitions</td>\n",
       "      <td>§ 64650. General Requirements.</td>\n",
       "      <td>(a) For a supplier using an approved surface w...</td>\n",
       "    </tr>\n",
       "  </tbody>\n",
       "</table>\n",
       "<p>309 rows × 5 columns</p>\n",
       "</div>"
      ],
      "text/plain": [
       "                                      _id  \\\n",
       "0    {'$oid': '6462e3dcae035d1237b105d5'}   \n",
       "1    {'$oid': '6462e3ddae035d1237b105d6'}   \n",
       "2    {'$oid': '6462e3ddae035d1237b105d7'}   \n",
       "7    {'$oid': '6462e3dfae035d1237b105dc'}   \n",
       "8    {'$oid': '6462e3dfae035d1237b105dd'}   \n",
       "..                                    ...   \n",
       "725  {'$oid': '6462e4feae035d1237b108aa'}   \n",
       "726  {'$oid': '6462e4feae035d1237b108ab'}   \n",
       "728  {'$oid': '6462e4ffae035d1237b108ad'}   \n",
       "729  {'$oid': '6462e4ffae035d1237b108ae'}   \n",
       "767  {'$oid': '6462e50dae035d1237b108d4'}   \n",
       "\n",
       "                                         chapter  \\\n",
       "0                      Chapter 14. Water Permits   \n",
       "1                      Chapter 14. Water Permits   \n",
       "2                      Chapter 14. Water Permits   \n",
       "7    Chapter 16. California Waterworks Standards   \n",
       "8    Chapter 16. California Waterworks Standards   \n",
       "..                                           ...   \n",
       "725  Chapter 16. California Waterworks Standards   \n",
       "726  Chapter 16. California Waterworks Standards   \n",
       "728  Chapter 16. California Waterworks Standards   \n",
       "729  Chapter 16. California Waterworks Standards   \n",
       "767          Chapter 17. Surface Water Treatment   \n",
       "\n",
       "                                               article  \\\n",
       "0                  Article 4. Local Primacy Delegation   \n",
       "1                  Article 4. Local Primacy Delegation   \n",
       "2                  Article 4. Local Primacy Delegation   \n",
       "7                                 Article 7. Additives   \n",
       "8                                 Article 7. Additives   \n",
       "..                                                 ...   \n",
       "725  Article 4. Materials and Installation of Water...   \n",
       "726  Article 4. Materials and Installation of Water...   \n",
       "728  Article 4. Materials and Installation of Water...   \n",
       "729  Article 4. Materials and Installation of Water...   \n",
       "767    Article 1. General Requirements and Definitions   \n",
       "\n",
       "                                                 title  \\\n",
       "0                                  § 64260. Workplans.   \n",
       "1                         § 64259. Program Management.   \n",
       "2                                § 64258. Enforcement.   \n",
       "7    § 64593. Use of Uncertified Chemicals, Materia...   \n",
       "8                           § 64590. Direct Additives.   \n",
       "..                                                 ...   \n",
       "725  § 64576. Air-Release, Air Vacuum, and Combinat...   \n",
       "726                                 § 64575. Flushing.   \n",
       "728                    § 64572. Water Main Separation.   \n",
       "729               § 64570. Materials and Installation.   \n",
       "767                     § 64650. General Requirements.   \n",
       "\n",
       "                                         paragraphText  \n",
       "0    (a) Each local primacy agency shall develop an...  \n",
       "1    (a) A local primacy agency shall establish and...  \n",
       "2    (a) A local primacy agency shall take enforcem...  \n",
       "7    (a) A water supplier may use a chemical, mater...  \n",
       "8    (a) Annual product testing,\\n(b) Annual facili...  \n",
       "..                                                 ...  \n",
       "725  (a) Installed such that its vent opening is ab...  \n",
       "726  (a) A flushing valve or blowoff shall be provi...  \n",
       "728  (a) New water mains and new supply lines shall...  \n",
       "729  (a) All newly installed water mains shall comp...  \n",
       "767  (a) For a supplier using an approved surface w...  \n",
       "\n",
       "[309 rows x 5 columns]"
      ]
     },
     "execution_count": 5,
     "metadata": {},
     "output_type": "execute_result"
    }
   ],
   "source": [
    "df = pd.read_json(\"./regItems.json\")\n",
    "df = df.replace(to_replace=\"\", value=np.nan).dropna(axis=0) # remove null values\n",
    "df"
   ]
  },
  {
   "cell_type": "code",
   "execution_count": 6,
   "metadata": {
    "id": "q0BnWyKTAExC"
   },
   "outputs": [
    {
     "name": "stderr",
     "output_type": "stream",
     "text": [
      "2023-05-19 18:14:44.170382: I tensorflow/core/platform/cpu_feature_guard.cc:193] This TensorFlow binary is optimized with oneAPI Deep Neural Network Library (oneDNN) to use the following CPU instructions in performance-critical operations:  AVX2 AVX512F FMA\n",
      "To enable them in other operations, rebuild TensorFlow with the appropriate compiler flags.\n",
      "2023-05-19 18:14:45.560943: W tensorflow/compiler/xla/stream_executor/platform/default/dso_loader.cc:64] Could not load dynamic library 'libnvinfer.so.7'; dlerror: libnvinfer.so.7: cannot open shared object file: No such file or directory\n",
      "2023-05-19 18:14:45.561477: W tensorflow/compiler/xla/stream_executor/platform/default/dso_loader.cc:64] Could not load dynamic library 'libnvinfer_plugin.so.7'; dlerror: libnvinfer_plugin.so.7: cannot open shared object file: No such file or directory\n",
      "2023-05-19 18:14:45.561497: W tensorflow/compiler/tf2tensorrt/utils/py_utils.cc:38] TF-TRT Warning: Cannot dlopen some TensorRT libraries. If you would like to use Nvidia GPU with TensorRT, please make sure the missing libraries mentioned above are installed properly.\n"
     ]
    }
   ],
   "source": [
    "from langchain.llms.base import LLM\n",
    "from llama_index import LLMPredictor, GPTVectorStoreIndex, PromptHelper, ServiceContext\n",
    "from transformers import pipeline, AutoTokenizer, AutoModelForCausalLM\n",
    "from IPython.display import Markdown\n",
    "from typing import Optional, List, Mapping, Any"
   ]
  },
  {
   "cell_type": "code",
   "execution_count": 7,
   "metadata": {
    "id": "iLgu2AszGy5E"
   },
   "outputs": [],
   "source": [
    "# 2. Load the BigScience Bloomz model and tokenizer\n",
    "model_name = \"bigscience/bloom-560m\" # \"bigscience/bloomz\"\n",
    "tokenizer = AutoTokenizer.from_pretrained(model_name)\n",
    "model = AutoModelForCausalLM.from_pretrained(model_name, config='T5Config')"
   ]
  },
  {
   "cell_type": "code",
   "execution_count": 8,
   "metadata": {
    "id": "GUpSV_StB1r5"
   },
   "outputs": [
    {
     "name": "stderr",
     "output_type": "stream",
     "text": [
      "Xformers is not installed correctly. If you want to use memorry_efficient_attention to accelerate training use the following command to install Xformers\n",
      "pip install xformers.\n"
     ]
    }
   ],
   "source": [
    "class CustomLLM(LLM):\n",
    "    # 3. Create the pipeline for question answering\n",
    "    pipeline = pipeline(\n",
    "        model=model,\n",
    "        tokenizer=tokenizer,\n",
    "        task=\"text-generation\",\n",
    "        # device=0, # GPU device number\n",
    "        # max_length=525,\n",
    "        do_sample=True,\n",
    "        top_p=0.95,\n",
    "        top_k=50,\n",
    "        temperature=0.7\n",
    "    )\n",
    "\n",
    "    def _call(self, prompt: str, stop: Optional[List[str]] = None) -> str:\n",
    "        prompt_length = len(prompt)\n",
    "        response = self.pipeline(prompt, max_new_tokens=525)[0][\"generated_text\"]\n",
    "\n",
    "        # only return newly generated tokens\n",
    "        return response[prompt_length:]\n",
    "\n",
    "    @property\n",
    "    def _identifying_params(self) -> Mapping[str, Any]:\n",
    "        return {\"name_of_model\": model_name}\n",
    "\n",
    "    @property\n",
    "    def _llm_type(self) -> str:\n",
    "        return \"custom\""
   ]
  },
  {
   "cell_type": "code",
   "execution_count": 9,
   "metadata": {},
   "outputs": [],
   "source": [
    "# define prompt helper\n",
    "# set maximum input size\n",
    "max_input_size = 2048\n",
    "# set number of output tokens\n",
    "num_output = 525\n",
    "# set maximum chunk overlap\n",
    "max_chunk_overlap = 20\n",
    "prompt_helper = PromptHelper(max_input_size, num_output, max_chunk_overlap)"
   ]
  },
  {
   "cell_type": "code",
   "execution_count": 10,
   "metadata": {
    "id": "ZG7mhvWFB-6S"
   },
   "outputs": [],
   "source": [
    "#define our llm\n",
    "llm_predictor = LLMPredictor(llm=CustomLLM())\n",
    "service_context = ServiceContext.from_defaults(llm_predictor=llm_predictor, prompt_helper=prompt_helper)"
   ]
  },
  {
   "attachments": {},
   "cell_type": "markdown",
   "metadata": {},
   "source": [
    "#### Create Documents for LLama-index "
   ]
  },
  {
   "cell_type": "code",
   "execution_count": 11,
   "metadata": {},
   "outputs": [],
   "source": [
    "from llama_index import download_loader, Document, GPTListIndex, SimpleWebPageReader, StorageContext, load_index_from_storage\n",
    "from pathlib import Path"
   ]
  },
  {
   "cell_type": "code",
   "execution_count": 12,
   "metadata": {
    "id": "psENaxPQQjeI"
   },
   "outputs": [],
   "source": [
    "# instead of using data laoders methods, we can create documents\n",
    "# for each regulation article in each chapter in llama index manually.\n",
    "from json import loads, dumps\n",
    "parsed = loads(df.to_json(orient=\"records\"))\n",
    "\n",
    "documents = []\n",
    "for item in parsed:\n",
    "    document = Document(item['paragraphText'], \n",
    "                        item['_id']['$oid'], \n",
    "                        extra_info={\"chapter\": item['chapter'], \n",
    "                                    \"article\": item['article'], \n",
    "                                    \"title\": item['title']})\n",
    "    documents.append(document)"
   ]
  },
  {
   "cell_type": "code",
   "execution_count": 13,
   "metadata": {},
   "outputs": [
    {
     "data": {
      "text/plain": [
       "Document(text='(a) Each local primacy agency shall develop and submit to the State Board a proposed annual program workplan for the upcoming fiscal year. The local primacy agency shall submit the proposed annual workplan to the State Board no later than May 1 of each year for the fiscal year commencing July 1 of that year; except for the initial proposed annual workplan submitted in accordance with section 64252.\\n(b) The workplan developed pursuant to subsection (a) shall describe the activities proposed to be performed by the local primacy agency during the forthcoming fiscal year and shall include:\\n(1) The anticipated number of new small water system permits to be issued and the proposed number of existing community or noncommunity permits (designated by category) to be updated or amended.\\n(2) A description of how the small water system inventory specified in section 64255 (a) will be maintained.\\n(3) A description of how the surveillance activities specified in section 64255 (b) through (f) will be conducted and the priorities to be used in determining the activities to be performed.\\n(4) The number of planned routine inspections and sanitary surveys to be performed for each category of small water systems (community, noncommunity and nontransient noncommunity).\\n(5) A listing of small water systems proposed for enforcement action and the priorities to be used in determining these systems.\\n', doc_id='6462e3dcae035d1237b105d5', embedding=None, doc_hash='41d64c242059900606672ad5d6197c4bb189b3755cf3e9bd9f43cab95816fe0d', extra_info={'chapter': 'Chapter 14. Water Permits', 'article': 'Article 4. Local Primacy Delegation', 'title': '§ 64260. Workplans.'})"
      ]
     },
     "execution_count": 13,
     "metadata": {},
     "output_type": "execute_result"
    }
   ],
   "source": [
    "documents[0]"
   ]
  },
  {
   "cell_type": "code",
   "execution_count": null,
   "metadata": {},
   "outputs": [],
   "source": [
    "# no need to run this again, if you already create and save the vector index \n",
    "# in the storage folder, as it might consume your openai token to create\n",
    "# vector embeddings.\n",
    "\n",
    "# you can skip this section and next one\n",
    "\n",
    "# using llama index vector store index\n",
    "index = GPTVectorStoreIndex.from_documents(documents, service_context=service_context)"
   ]
  },
  {
   "cell_type": "code",
   "execution_count": 14,
   "metadata": {},
   "outputs": [
    {
     "data": {
      "text/html": [
       "<pre style=\"white-space:pre;overflow-x:auto;line-height:normal;font-family:Menlo,'DejaVu Sans Mono',consolas,'Courier New',monospace\"><span style=\"color: #800000; text-decoration-color: #800000\">╭─────────────────────────────── </span><span style=\"color: #800000; text-decoration-color: #800000; font-weight: bold\">Traceback </span><span style=\"color: #bf7f7f; text-decoration-color: #bf7f7f; font-weight: bold\">(most recent call last)</span><span style=\"color: #800000; text-decoration-color: #800000\"> ────────────────────────────────╮</span>\n",
       "<span style=\"color: #800000; text-decoration-color: #800000\">│</span> <span style=\"color: #bfbf7f; text-decoration-color: #bfbf7f\">/tmp/ipykernel_507/</span><span style=\"color: #808000; text-decoration-color: #808000; font-weight: bold\">717366840.py</span>:<span style=\"color: #0000ff; text-decoration-color: #0000ff\">2</span> in <span style=\"color: #00ff00; text-decoration-color: #00ff00\">&lt;cell line: 2&gt;</span>                                              <span style=\"color: #800000; text-decoration-color: #800000\">│</span>\n",
       "<span style=\"color: #800000; text-decoration-color: #800000\">│</span>                                                                                                  <span style=\"color: #800000; text-decoration-color: #800000\">│</span>\n",
       "<span style=\"color: #800000; text-decoration-color: #800000\">│</span> <span style=\"color: #800000; text-decoration-color: #800000; font-style: italic\">[Errno 2] No such file or directory: '/tmp/ipykernel_507/717366840.py'</span>                           <span style=\"color: #800000; text-decoration-color: #800000\">│</span>\n",
       "<span style=\"color: #800000; text-decoration-color: #800000\">╰──────────────────────────────────────────────────────────────────────────────────────────────────╯</span>\n",
       "<span style=\"color: #ff0000; text-decoration-color: #ff0000; font-weight: bold\">NameError: </span>name <span style=\"color: #008000; text-decoration-color: #008000\">'index'</span> is not defined\n",
       "</pre>\n"
      ],
      "text/plain": [
       "\u001b[31m╭─\u001b[0m\u001b[31m──────────────────────────────\u001b[0m\u001b[31m \u001b[0m\u001b[1;31mTraceback \u001b[0m\u001b[1;2;31m(most recent call last)\u001b[0m\u001b[31m \u001b[0m\u001b[31m───────────────────────────────\u001b[0m\u001b[31m─╮\u001b[0m\n",
       "\u001b[31m│\u001b[0m \u001b[2;33m/tmp/ipykernel_507/\u001b[0m\u001b[1;33m717366840.py\u001b[0m:\u001b[94m2\u001b[0m in \u001b[92m<cell line: 2>\u001b[0m                                              \u001b[31m│\u001b[0m\n",
       "\u001b[31m│\u001b[0m                                                                                                  \u001b[31m│\u001b[0m\n",
       "\u001b[31m│\u001b[0m \u001b[3;31m[Errno 2] No such file or directory: '/tmp/ipykernel_507/717366840.py'\u001b[0m                           \u001b[31m│\u001b[0m\n",
       "\u001b[31m╰──────────────────────────────────────────────────────────────────────────────────────────────────╯\u001b[0m\n",
       "\u001b[1;91mNameError: \u001b[0mname \u001b[32m'index'\u001b[0m is not defined\n"
      ]
     },
     "metadata": {},
     "output_type": "display_data"
    }
   ],
   "source": [
    "# save the vector index in ./storage\n",
    "index.storage_context.persist()"
   ]
  },
  {
   "cell_type": "code",
   "execution_count": 19,
   "metadata": {},
   "outputs": [],
   "source": [
    "# rebuild storage context\n",
    "storage_context = StorageContext.from_defaults(persist_dir=\"./storage\")\n",
    "# load index\n",
    "index = load_index_from_storage(storage_context)"
   ]
  },
  {
   "cell_type": "code",
   "execution_count": 20,
   "metadata": {},
   "outputs": [
    {
     "data": {
      "text/markdown": [
       "<b>\n",
       "T1</b><br />"
      ],
      "text/plain": [
       "<IPython.core.display.Markdown object>"
      ]
     },
     "metadata": {},
     "output_type": "display_data"
    },
    {
     "name": "stdout",
     "output_type": "stream",
     "text": [
      "CPU times: user 235 ms, sys: 5.61 ms, total: 241 ms\n",
      "Wall time: 1.74 s\n"
     ]
    }
   ],
   "source": [
    "%%time\n",
    "query_engine = index.as_query_engine()\n",
    "query_str = \"if treatment facility classification is T1, what is the minimum certification of chief operator?\"\n",
    "response = query_engine.query(query_str)\n",
    "display(Markdown(f\"<b>{response}</b><br />\"))"
   ]
  },
  {
   "attachments": {},
   "cell_type": "markdown",
   "metadata": {},
   "source": [
    "- https://gpt-index.readthedocs.io/en/latest/examples/evaluation/TestNYC-Evaluation-Query.html"
   ]
  },
  {
   "cell_type": "code",
   "execution_count": 27,
   "metadata": {},
   "outputs": [],
   "source": [
    "from llama_index.evaluation import QueryResponseEvaluator\n",
    "from llama_index import Response\n",
    "# define evaluator\n",
    "evaluator = QueryResponseEvaluator(service_context=service_context)"
   ]
  },
  {
   "cell_type": "code",
   "execution_count": 28,
   "metadata": {},
   "outputs": [],
   "source": [
    "# define jupyter display function\n",
    "# this method displays the first resource from the list of references that vector index found\n",
    "def display_eval_df(query: str, response: Response, eval_result: str) -> None:\n",
    "    eval_df = pd.DataFrame(\n",
    "        {\n",
    "            \"Query\": query,\n",
    "            \"Response\": str(response), \n",
    "            \"Source\": response.source_nodes[0].source_text[:1000] + \"...\",\n",
    "            \"Evaluation Result\": eval_result\n",
    "        },\n",
    "        index=[0]\n",
    "    )\n",
    "    eval_df = eval_df.style.set_properties(\n",
    "        **{\n",
    "            'inline-size': '600px',\n",
    "            'overflow-wrap': 'break-word',\n",
    "        }, \n",
    "        subset=[\"Response\", \"Source\"]\n",
    "    )\n",
    "    display(eval_df)"
   ]
  },
  {
   "cell_type": "code",
   "execution_count": 20,
   "metadata": {},
   "outputs": [
    {
     "name": "stderr",
     "output_type": "stream",
     "text": [
      "/home/studio-lab-user/.conda/envs/default/lib/python3.9/site-packages/llama_index/data_structs/node.py:176: UserWarning: .source_text is deprecated, use .node.get_text() instead\n",
      "  warnings.warn(\".source_text is deprecated, use .node.get_text() instead\")\n"
     ]
    },
    {
     "data": {
      "text/html": [
       "<style type=\"text/css\">\n",
       "#T_6d0ed_row0_col1, #T_6d0ed_row0_col2 {\n",
       "  inline-size: 600px;\n",
       "  overflow-wrap: break-word;\n",
       "}\n",
       "</style>\n",
       "<table id=\"T_6d0ed\">\n",
       "  <thead>\n",
       "    <tr>\n",
       "      <th class=\"blank level0\" >&nbsp;</th>\n",
       "      <th id=\"T_6d0ed_level0_col0\" class=\"col_heading level0 col0\" >Query</th>\n",
       "      <th id=\"T_6d0ed_level0_col1\" class=\"col_heading level0 col1\" >Response</th>\n",
       "      <th id=\"T_6d0ed_level0_col2\" class=\"col_heading level0 col2\" >Source</th>\n",
       "      <th id=\"T_6d0ed_level0_col3\" class=\"col_heading level0 col3\" >Evaluation Result</th>\n",
       "    </tr>\n",
       "  </thead>\n",
       "  <tbody>\n",
       "    <tr>\n",
       "      <th id=\"T_6d0ed_level0_row0\" class=\"row_heading level0 row0\" >0</th>\n",
       "      <td id=\"T_6d0ed_row0_col0\" class=\"data row0 col0\" >if treatment facility classification is T1, what is the minimum certification of chief operator?</td>\n",
       "      <td id=\"T_6d0ed_row0_col1\" class=\"data row0 col1\" >\n",
       "T1</td>\n",
       "      <td id=\"T_6d0ed_row0_col2\" class=\"data row0 col2\" >chapter: Chapter 13. Operator Certification\n",
       "article: Article 2. Operator Certification Grades\n",
       "title: § 63765. Water Treatment Facility Staff Certification Requirements.\n",
       "\n",
       "(a) Except as provided in (c), chief and shift operators shall possess valid operator certificates pursuant to Table 63765-A.\n",
       "Table 63765-A -- Minimum Certification Requirements for Chief and Shift Operators\n",
       "Treatment Facility  Classification,Minimum Certification  of Chief Operator,Minimum Certification  of Shift Operator\n",
       "T1,T1,T1\n",
       "T2,T2,T1\n",
       "T3,T3,T2\n",
       "T4,T4,T3\n",
       "T5,T5,T3\n",
       "(b) Treatment operators not designated by the water supplier as chief or shift operator pursuant to section 64413.5 shall be certified but may hold certificates of any grade.\n",
       "(c) Until January 1, 2003, a shift and/or chief operator may continue to be employed in that capacity provided that the operator:\n",
       "(1) Is in compliance with the certification requirements that were in effect on December 31, 2000, and\n",
       "(2) Has been in continuous employment since December...</td>\n",
       "      <td id=\"T_6d0ed_row0_col3\" class=\"data row0 col3\" >YES</td>\n",
       "    </tr>\n",
       "  </tbody>\n",
       "</table>\n"
      ],
      "text/plain": [
       "<pandas.io.formats.style.Styler at 0x7fa124119700>"
      ]
     },
     "metadata": {},
     "output_type": "display_data"
    }
   ],
   "source": [
    "# running evaluator.evaluate might take a few minutes\n",
    "# you can ignore the warning\n",
    "eval_result = evaluator.evaluate(query_str, response)\n",
    "display_eval_df(query_str, response, eval_result)"
   ]
  },
  {
   "cell_type": "code",
   "execution_count": 29,
   "metadata": {},
   "outputs": [
    {
     "data": {
      "text/markdown": [
       "<b>A) Each calendar quarter, with samples collected during the same month</b><br />"
      ],
      "text/plain": [
       "<IPython.core.display.Markdown object>"
      ]
     },
     "metadata": {},
     "output_type": "display_data"
    },
    {
     "name": "stderr",
     "output_type": "stream",
     "text": [
      "/home/studio-lab-user/.conda/envs/default/lib/python3.9/site-packages/llama_index/data_structs/node.py:176: UserWarning: .source_text is deprecated, use .node.get_text() instead\n",
      "  warnings.warn(\".source_text is deprecated, use .node.get_text() instead\")\n"
     ]
    },
    {
     "data": {
      "text/html": [
       "<style type=\"text/css\">\n",
       "#T_35aca_row0_col1, #T_35aca_row0_col2 {\n",
       "  inline-size: 600px;\n",
       "  overflow-wrap: break-word;\n",
       "}\n",
       "</style>\n",
       "<table id=\"T_35aca\">\n",
       "  <thead>\n",
       "    <tr>\n",
       "      <th class=\"blank level0\" >&nbsp;</th>\n",
       "      <th id=\"T_35aca_level0_col0\" class=\"col_heading level0 col0\" >Query</th>\n",
       "      <th id=\"T_35aca_level0_col1\" class=\"col_heading level0 col1\" >Response</th>\n",
       "      <th id=\"T_35aca_level0_col2\" class=\"col_heading level0 col2\" >Source</th>\n",
       "      <th id=\"T_35aca_level0_col3\" class=\"col_heading level0 col3\" >Evaluation Result</th>\n",
       "    </tr>\n",
       "  </thead>\n",
       "  <tbody>\n",
       "    <tr>\n",
       "      <th id=\"T_35aca_level0_row0\" class=\"row_heading level0 row0\" >0</th>\n",
       "      <td id=\"T_35aca_row0_col0\" class=\"data row0 col0\" >\n",
       "When should a raw water sample be collected for a groundwater source that is treated \n",
       "    with a primary or residual disinfectant on a continuous basis and is not monitored \n",
       "    pursuant to Section 64654.8(b)(1)(B)? Select one from the following list of options:\n",
       "    A) Each calendar quarter, with samples collected during the same month\n",
       "    B) Each month, with samples collected during the same week\n",
       "    C) Each year, with samples collected during the same season\n",
       "    D) Only if the raw water sample is total coliform-positive\n",
       "</td>\n",
       "      <td id=\"T_35aca_row0_col1\" class=\"data row0 col1\" >A) Each calendar quarter, with samples collected during the same month</td>\n",
       "      <td id=\"T_35aca_row0_col2\" class=\"data row0 col2\" >chapter: Chapter 15. Domestic Water Quality and Monitoring Regulations\n",
       "article: Article 3. Primary Standards--Bacteriological Quality\n",
       "title: § 64421. General Requirements.\n",
       "\n",
       "(a) The requirements of this Article apply to public water systems.\n",
       "(b) In addition to the bacteriological monitoring requirements in Sections 64423, 64424, 64425, and 64426.9, a public water system shall perform special purpose bacteriological monitoring as follows:\n",
       "(1) After any system pressure loss to less than five psi. Samples collected shall represent the water quality in the affected portions of the system; and\n",
       "(2) For a groundwater (not GWUDI) source that is treated with a primary or residual disinfectant on a continuous basis and is not monitored pursuant to Section 64654.8(b)(1)(B):\n",
       "(A) A raw water sample shall be collected each calendar quarter, with samples collected during the same month (first, second, or third) of each calendar quarter; and\n",
       "(B) If the raw water sample is total coliform-positive, a raw...</td>\n",
       "      <td id=\"T_35aca_row0_col3\" class=\"data row0 col3\" >YES</td>\n",
       "    </tr>\n",
       "  </tbody>\n",
       "</table>\n"
      ],
      "text/plain": [
       "<pandas.io.formats.style.Styler at 0x7f1addd0b6d0>"
      ]
     },
     "metadata": {},
     "output_type": "display_data"
    },
    {
     "name": "stdout",
     "output_type": "stream",
     "text": [
      "CPU times: user 8min 39s, sys: 14.4 s, total: 8min 54s\n",
      "Wall time: 5min 16s\n"
     ]
    }
   ],
   "source": [
    "%%time\n",
    "query_engine = index.as_query_engine()\n",
    "query_str = \"\"\"\n",
    "When should a raw water sample be collected for a groundwater source that is treated \n",
    "    with a primary or residual disinfectant on a continuous basis and is not monitored \n",
    "    pursuant to Section 64654.8(b)(1)(B)? Select one from the following list of options:\n",
    "    A) Each calendar quarter, with samples collected during the same month\n",
    "    B) Each month, with samples collected during the same week\n",
    "    C) Each year, with samples collected during the same season\n",
    "    D) Only if the raw water sample is total coliform-positive\n",
    "\"\"\"\n",
    "response = query_engine.query(query_str)\n",
    "display(Markdown(f\"<b>{response}</b><br />\"))\n",
    "\n",
    "eval_result = evaluator.evaluate(query_str, response)\n",
    "display_eval_df(query_str, response, eval_result)"
   ]
  },
  {
   "cell_type": "code",
   "execution_count": 30,
   "metadata": {},
   "outputs": [
    {
     "data": {
      "text/markdown": [
       "<b>\n",
       "D) Only if the raw water sample is total coliform-positive</b><br />"
      ],
      "text/plain": [
       "<IPython.core.display.Markdown object>"
      ]
     },
     "metadata": {},
     "output_type": "display_data"
    },
    {
     "name": "stderr",
     "output_type": "stream",
     "text": [
      "/home/studio-lab-user/.conda/envs/default/lib/python3.9/site-packages/llama_index/data_structs/node.py:176: UserWarning: .source_text is deprecated, use .node.get_text() instead\n",
      "  warnings.warn(\".source_text is deprecated, use .node.get_text() instead\")\n"
     ]
    },
    {
     "data": {
      "text/html": [
       "<style type=\"text/css\">\n",
       "#T_be2d4_row0_col1, #T_be2d4_row0_col2 {\n",
       "  inline-size: 600px;\n",
       "  overflow-wrap: break-word;\n",
       "}\n",
       "</style>\n",
       "<table id=\"T_be2d4\">\n",
       "  <thead>\n",
       "    <tr>\n",
       "      <th class=\"blank level0\" >&nbsp;</th>\n",
       "      <th id=\"T_be2d4_level0_col0\" class=\"col_heading level0 col0\" >Query</th>\n",
       "      <th id=\"T_be2d4_level0_col1\" class=\"col_heading level0 col1\" >Response</th>\n",
       "      <th id=\"T_be2d4_level0_col2\" class=\"col_heading level0 col2\" >Source</th>\n",
       "      <th id=\"T_be2d4_level0_col3\" class=\"col_heading level0 col3\" >Evaluation Result</th>\n",
       "    </tr>\n",
       "  </thead>\n",
       "  <tbody>\n",
       "    <tr>\n",
       "      <th id=\"T_be2d4_level0_row0\" class=\"row_heading level0 row0\" >0</th>\n",
       "      <td id=\"T_be2d4_row0_col0\" class=\"data row0 col0\" >\n",
       "When should a raw water sample be collected for a groundwater source that is treated \n",
       "    with a primary or residual disinfectant on a continuous basis and is not monitored \n",
       "    pursuant to Section 64654.8(b)(1)(B)? \n",
       "    A) Each calendar quarter, with samples collected during the same month\n",
       "    B) Each month, with samples collected during the same week\n",
       "    C) Each year, with samples collected during the same season\n",
       "    D) Only if the raw water sample is total coliform-positive\n",
       "</td>\n",
       "      <td id=\"T_be2d4_row0_col1\" class=\"data row0 col1\" >\n",
       "D) Only if the raw water sample is total coliform-positive</td>\n",
       "      <td id=\"T_be2d4_row0_col2\" class=\"data row0 col2\" >chapter: Chapter 15. Domestic Water Quality and Monitoring Regulations\n",
       "article: Article 3. Primary Standards--Bacteriological Quality\n",
       "title: § 64421. General Requirements.\n",
       "\n",
       "(a) The requirements of this Article apply to public water systems.\n",
       "(b) In addition to the bacteriological monitoring requirements in Sections 64423, 64424, 64425, and 64426.9, a public water system shall perform special purpose bacteriological monitoring as follows:\n",
       "(1) After any system pressure loss to less than five psi. Samples collected shall represent the water quality in the affected portions of the system; and\n",
       "(2) For a groundwater (not GWUDI) source that is treated with a primary or residual disinfectant on a continuous basis and is not monitored pursuant to Section 64654.8(b)(1)(B):\n",
       "(A) A raw water sample shall be collected each calendar quarter, with samples collected during the same month (first, second, or third) of each calendar quarter; and\n",
       "(B) If the raw water sample is total coliform-positive, a raw...</td>\n",
       "      <td id=\"T_be2d4_row0_col3\" class=\"data row0 col3\" >YES</td>\n",
       "    </tr>\n",
       "  </tbody>\n",
       "</table>\n"
      ],
      "text/plain": [
       "<pandas.io.formats.style.Styler at 0x7f1a8bddc610>"
      ]
     },
     "metadata": {},
     "output_type": "display_data"
    },
    {
     "name": "stdout",
     "output_type": "stream",
     "text": [
      "CPU times: user 8min 30s, sys: 12.6 s, total: 8min 43s\n",
      "Wall time: 5min 11s\n"
     ]
    }
   ],
   "source": [
    "%%time\n",
    "query_engine = index.as_query_engine()\n",
    "query_str = \"\"\"\n",
    "When should a raw water sample be collected for a groundwater source that is treated \n",
    "    with a primary or residual disinfectant on a continuous basis and is not monitored \n",
    "    pursuant to Section 64654.8(b)(1)(B)? \n",
    "    A) Each calendar quarter, with samples collected during the same month\n",
    "    B) Each month, with samples collected during the same week\n",
    "    C) Each year, with samples collected during the same season\n",
    "    D) Only if the raw water sample is total coliform-positive\n",
    "\"\"\"\n",
    "response = query_engine.query(query_str)\n",
    "display(Markdown(f\"<b>{response}</b><br />\"))\n",
    "\n",
    "eval_result = evaluator.evaluate(query_str, response)\n",
    "display_eval_df(query_str, response, eval_result)"
   ]
  },
  {
   "cell_type": "code",
   "execution_count": 21,
   "metadata": {},
   "outputs": [],
   "source": [
    "from typing import List\n",
    "# define jupyter display function\n",
    "# this method displays all context that vector index extracted/referenced and tells us whether they are \n",
    "# related to the query or not\n",
    "def display_eval_sources(query: str, response: Response, eval_result: List[str]) -> None:\n",
    "    \n",
    "    sources = [s.node.get_text() for s in response.source_nodes]\n",
    "    eval_df = pd.DataFrame(\n",
    "        {\n",
    "            \"Source\": sources,\n",
    "            \"Eval Result\": eval_result, \n",
    "        },\n",
    "    )\n",
    "    eval_df.style.set_caption(query)\n",
    "    eval_df = eval_df.style.set_properties(\n",
    "        **{\n",
    "            'inline-size': '600px',\n",
    "            'overflow-wrap': 'break-word',\n",
    "        }, \n",
    "        subset=[\"Source\"]\n",
    "    )\n",
    "    \n",
    "\n",
    "    display(eval_df)"
   ]
  },
  {
   "cell_type": "code",
   "execution_count": 49,
   "metadata": {},
   "outputs": [
    {
     "data": {
      "text/markdown": [
       "<b>\n",
       "d) All of the above</b><br />"
      ],
      "text/plain": [
       "<IPython.core.display.Markdown object>"
      ]
     },
     "metadata": {},
     "output_type": "display_data"
    },
    {
     "name": "stdout",
     "output_type": "stream",
     "text": [
      "CPU times: user 367 ms, sys: 3.91 ms, total: 371 ms\n",
      "Wall time: 4.18 s\n"
     ]
    }
   ],
   "source": [
    "%%time\n",
    "query_engine = index.as_query_engine()\n",
    "query_str = \"\"\"When is a public water system in violation of the E. coli MCL? \n",
    "a) When the system has a total coliform-positive routine sample followed by a E. coli-positive repeat sample\n",
    "b) When the system fails to take all required repeat samples following an E. coli-positive routine sample\n",
    "c) When the system fails to test for E. coli when any repeat sample tests positive for total coliform\n",
    "d) All of the above\n",
    "\"\"\"\n",
    "response = query_engine.query(query_str)\n",
    "display(Markdown(f\"<b>{response}</b><br />\"))"
   ]
  },
  {
   "cell_type": "code",
   "execution_count": 50,
   "metadata": {},
   "outputs": [
    {
     "name": "stderr",
     "output_type": "stream",
     "text": [
      "/home/studio-lab-user/.conda/envs/default/lib/python3.9/site-packages/llama_index/data_structs/node.py:176: UserWarning: .source_text is deprecated, use .node.get_text() instead\n",
      "  warnings.warn(\".source_text is deprecated, use .node.get_text() instead\")\n"
     ]
    }
   ],
   "source": [
    "eval_source_result = evaluator.evaluate_source_nodes(query_str, response)"
   ]
  },
  {
   "cell_type": "code",
   "execution_count": 51,
   "metadata": {},
   "outputs": [
    {
     "data": {
      "text/html": [
       "<style type=\"text/css\">\n",
       "#T_735e5_row0_col0, #T_735e5_row1_col0 {\n",
       "  inline-size: 600px;\n",
       "  overflow-wrap: break-word;\n",
       "}\n",
       "</style>\n",
       "<table id=\"T_735e5\">\n",
       "  <thead>\n",
       "    <tr>\n",
       "      <th class=\"blank level0\" >&nbsp;</th>\n",
       "      <th id=\"T_735e5_level0_col0\" class=\"col_heading level0 col0\" >Source</th>\n",
       "      <th id=\"T_735e5_level0_col1\" class=\"col_heading level0 col1\" >Eval Result</th>\n",
       "    </tr>\n",
       "  </thead>\n",
       "  <tbody>\n",
       "    <tr>\n",
       "      <th id=\"T_735e5_level0_row0\" class=\"row_heading level0 row0\" >0</th>\n",
       "      <td id=\"T_735e5_row0_col0\" class=\"data row0 col0\" >chapter: Chapter 15. Domestic Water Quality and Monitoring Regulations\n",
       "article: Article 3. Primary Standards--Bacteriological Quality\n",
       "title: § 64426.1. E. coli Maximum Contaminant Level (MCL).\n",
       "\n",
       "(a) A public water system shall determine compliance with the \n",
       "(b) A public water system is in violation of the \n",
       "(1) The system has an \n",
       "(2) The system has a total coliform-positive repeat sample following an \n",
       "(3) The system fails to take all required repeat samples following an \n",
       "(4) The system fails to test for \n",
       "(c) If a public water system is not in compliance with subsections (b)(1) through (4), during any month in which it supplies water to the public, the system shall notify the State Board by the end of the day on which this is determined. The system shall also notify the public pursuant to Sections 64463, 64463.1, and 64465.\n",
       "(d) A public water system in violation of the reporting requirement in subsection (c) to notify the State Board shall notify the public pursuant to Sections 64463, 64463.7, and 64465.\n",
       "(e) A public water system shall not be eligible for a variance or exemption from the \n",
       "</td>\n",
       "      <td id=\"T_735e5_row0_col1\" class=\"data row0 col1\" >YES</td>\n",
       "    </tr>\n",
       "    <tr>\n",
       "      <th id=\"T_735e5_level0_row1\" class=\"row_heading level0 row1\" >1</th>\n",
       "      <td id=\"T_735e5_row1_col0\" class=\"data row1 col0\" >chapter: Chapter 15. Domestic Water Quality and Monitoring Regulations\n",
       "article: Article 3. Primary Standards--Bacteriological Quality\n",
       "title: § 64425. Sample Invalidation.\n",
       "\n",
       "(a) A public water system may request the State Board to invalidate a routine or repeat sample for which a total coliform-positive result has been reported if the system demonstrates:\n",
       "(1) All repeat sample(s) collected at the same tap as the original total coliform-positive sample also are total coliform- positive and all repeat samples collected within five service connections of the original tap are not total coliform-positive; or\n",
       "(2) The laboratory did not follow the prescribed analytical methods pursuant to Section 64415(a), based on a review of laboratory documentation by the State Board. The system shall submit to the State Board a written request for invalidation along with the laboratory documentation, the system's sample collection records and any observations noted during sample collection and delivery. The system shall require the laboratory to provide the system with documentation which shall include, but not be limited to:\n",
       "(A) A letter from the director of the laboratory having generated the data, confirming the invalidation request by reason of laboratory accident or error;\n",
       "(B) Complete sample identification, laboratory sample log number (if used), date and time of collection, date and time of receipt by the laboratory, date and time of analysis for the sample(s) in question;\n",
       "(C) Complete description of the accident or error alleged to have invalidated the result(s);\n",
       "(D) Copies of all analytical, operating, and quality assurance records pertaining to the incident in question; and\n",
       "(E) Any observations noted by laboratory personnel when receiving and analyzing the sample(s) in question.\n",
       "(b) Whenever any total coliform routine or repeat sample result indicative of the absence of total coliforms has been declared invalid by the laboratory due to interference problems as specified at 40 Code Federal Regulations, Section 141.853(c)(2) (78 Fed. Reg. 10270 (February 13, 2013)), which is incorporated by reference, the public water system shall collect a replacement sample from the same location as the original sample within 24 hours of being notified of the interference problem, and have it analyzed for the presence of total coliforms. The system shall continue to re-sample at the original site within 24 hours and have the samples analyzed until a valid result is obtained. If the system is unable to collect the sample within the 24-hour time period or deliver the sample to the laboratory within 24 hours after collection because of circumstances beyond its control, the system shall notify the State Board within 24 hours. The State Board will then determine how much time the system will have to collect the replacement sample.\n",
       "(c) A total coliform-positive sample invalidated under this section does not count towards meeting the minimum routine and repeat sample monitoring requirements of Sections 64423 and 64424, respectively.\n",
       "(d) A public water system in violation of the replacement sample monitoring requirements of subsection (b) shall notify the State Board within 10 days after it learns of the violation and notify the public pursuant to Sections 64463, 64463.7, and 64465.\n",
       "(e) A public water system in violation of the reporting requirement in subsection (d) to notify the State Board shall notify the public pursuant to Sections 64463, 64463.7, and 64465.\n",
       "</td>\n",
       "      <td id=\"T_735e5_row1_col1\" class=\"data row1 col1\" >YES</td>\n",
       "    </tr>\n",
       "  </tbody>\n",
       "</table>\n"
      ],
      "text/plain": [
       "<pandas.io.formats.style.Styler at 0x7fac89253250>"
      ]
     },
     "metadata": {},
     "output_type": "display_data"
    }
   ],
   "source": [
    "display_eval_sources(query_str, response, eval_source_result)"
   ]
  },
  {
   "cell_type": "code",
   "execution_count": 55,
   "metadata": {},
   "outputs": [
    {
     "data": {
      "text/markdown": [
       "<b>\n",
       "C) The sample sites should be representative of water throughout the distribution system.</b><br />"
      ],
      "text/plain": [
       "<IPython.core.display.Markdown object>"
      ]
     },
     "metadata": {},
     "output_type": "display_data"
    },
    {
     "name": "stdout",
     "output_type": "stream",
     "text": [
      "CPU times: user 235 ms, sys: 0 ns, total: 235 ms\n",
      "Wall time: 4.72 s\n"
     ]
    }
   ],
   "source": [
    "%%time\n",
    "query_engine = index.as_query_engine()\n",
    "response = query_engine.query(\"\"\"What is the requirement for choosing sample sites for bacteriological sampling?\n",
    "a) The sample sites should be located in the same pressure zone\n",
    "b) The sample sites should be located in the same water source\n",
    "c) The sample sites should be representative of water throughout the distribution system\n",
    "d) The sample sites should be located in the same distribution reservoir\n",
    "\"\"\")\n",
    "display(Markdown(f\"<b>{response}</b><br />\"))"
   ]
  },
  {
   "attachments": {},
   "cell_type": "markdown",
   "metadata": {
    "jp-MarkdownHeadingCollapsed": true,
    "tags": []
   },
   "source": [
    "#### Testing"
   ]
  },
  {
   "cell_type": "code",
   "execution_count": 21,
   "metadata": {},
   "outputs": [],
   "source": [
    "queries = [\"from Table 64423-A, if monthly population served is 1000, what is the range of service connections and minimum number of samples per month?\", \n",
    "          \"what is the maximum contaminant level of aluminum that public water system shall comply?\",\n",
    "          \"if monthly population served is 500, what is the range of service connections and minimum number of samples per month?\",\n",
    "          \"if monthly population served is 4000, what is the minimum number of samples per month?\",\n",
    "          \"what will the PWS need to do if there is a violation in lead concentration?\",\n",
    "          \"How do we determine how many samples a PWS will need to take for lead?\",\n",
    "          \"What is the difference between a level 1 and 2 assessments?\",\n",
    "          \"What is a level 2 assessment?\",\n",
    "          \"What is a level 1 assessment?\",\n",
    "          \"What is DLR?\",\n",
    "          \"What does DLR stand for?\",\n",
    "          \"what is the exact meaning of the water treatment facility?\",\n",
    "          \"What are some requirements an applicant should have before taking the T2 operator exam?\",\n",
    "          \"what does the term State Board stands for?\",\n",
    "          \"what does awwa abbreviation mean?\",\n",
    "          \"what is AWWA?\", \"what is cross-connection?\"]"
   ]
  },
  {
   "cell_type": "code",
   "execution_count": 22,
   "metadata": {},
   "outputs": [
    {
     "name": "stdout",
     "output_type": "stream",
     "text": [
      "query: from Table 64423-A, if monthly population served is 1000, what is the range of service connections and minimum number of samples per month?\n"
     ]
    },
    {
     "data": {
      "text/markdown": [
       "<b>\n",
       "The range of service connections for a population of 1000 served is 101 to 500, and the minimum number of samples per month is 10.</b><br />"
      ],
      "text/plain": [
       "<IPython.core.display.Markdown object>"
      ]
     },
     "metadata": {},
     "output_type": "display_data"
    },
    {
     "name": "stdout",
     "output_type": "stream",
     "text": [
      "----------------------------------------\n",
      "----------------------------------------\n",
      "query: what is the maximum contaminant level of aluminum that public water system shall comply?\n"
     ]
    },
    {
     "data": {
      "text/markdown": [
       "<b>\n",
       "The maximum contaminant level of aluminum that public water systems shall comply is 0.2 mg/L.</b><br />"
      ],
      "text/plain": [
       "<IPython.core.display.Markdown object>"
      ]
     },
     "metadata": {},
     "output_type": "display_data"
    },
    {
     "name": "stdout",
     "output_type": "stream",
     "text": [
      "----------------------------------------\n",
      "----------------------------------------\n",
      "query: if monthly population served is 500, what is the range of service connections and minimum number of samples per month?\n"
     ]
    },
    {
     "data": {
      "text/markdown": [
       "<b>\n",
       "The range of service connections is 101 to 500 and the minimum number of samples per month is 5.</b><br />"
      ],
      "text/plain": [
       "<IPython.core.display.Markdown object>"
      ]
     },
     "metadata": {},
     "output_type": "display_data"
    },
    {
     "name": "stdout",
     "output_type": "stream",
     "text": [
      "----------------------------------------\n",
      "----------------------------------------\n",
      "query: if monthly population served is 4000, what is the minimum number of samples per month?\n"
     ]
    },
    {
     "data": {
      "text/markdown": [
       "<b>\n",
       "4</b><br />"
      ],
      "text/plain": [
       "<IPython.core.display.Markdown object>"
      ]
     },
     "metadata": {},
     "output_type": "display_data"
    },
    {
     "name": "stdout",
     "output_type": "stream",
     "text": [
      "----------------------------------------\n",
      "----------------------------------------\n",
      "query: what will the PWS need to do if there is a violation in lead concentration?\n"
     ]
    },
    {
     "data": {
      "text/markdown": [
       "<b>\n",
       "If there is a violation in lead concentration, the PWS will need to collect a follow-up sample at each affected site for each WQP that did not meet the Department-specified values. The criteria in paragraphs (d)(1) and (2) shall be applied to the followup sample results to determine if another excursion has occurred. The system will also need to resume standard WQP tap monitoring pursuant to section 64680 (General WQP Monitoring Requirements).</b><br />"
      ],
      "text/plain": [
       "<IPython.core.display.Markdown object>"
      ]
     },
     "metadata": {},
     "output_type": "display_data"
    },
    {
     "name": "stdout",
     "output_type": "stream",
     "text": [
      "----------------------------------------\n",
      "----------------------------------------\n",
      "query: How do we determine how many samples a PWS will need to take for lead?\n"
     ]
    },
    {
     "data": {
      "text/markdown": [
       "<b>\n",
       "To determine how many samples a PWS will need to take for lead, we must refer to § 64680. General WQP Monitoring Requirements. This section outlines the standard and reduced tap sampling requirements based on the system size. The number of samples required for each applicable WQP is specified in Table 64680-A.</b><br />"
      ],
      "text/plain": [
       "<IPython.core.display.Markdown object>"
      ]
     },
     "metadata": {},
     "output_type": "display_data"
    },
    {
     "name": "stdout",
     "output_type": "stream",
     "text": [
      "----------------------------------------\n",
      "----------------------------------------\n",
      "query: What is the difference between a level 1 and 2 assessments?\n"
     ]
    },
    {
     "data": {
      "text/markdown": [
       "<b>\n",
       "The difference between a Level 1 and Level 2 assessment is that a Level 1 assessment is conducted by the system operator or owner as soon as practical after exceeding any trigger, while a Level 2 assessment is arranged with the State Board to be conducted as soon as practical after exceeding any trigger. Additionally, a Level 1 assessment must be submitted to the State Board within 30 days, while a Level 2 assessment must be submitted to the State Board within 30 days and must include the State Board assessment.</b><br />"
      ],
      "text/plain": [
       "<IPython.core.display.Markdown object>"
      ]
     },
     "metadata": {},
     "output_type": "display_data"
    },
    {
     "name": "stdout",
     "output_type": "stream",
     "text": [
      "----------------------------------------\n",
      "----------------------------------------\n",
      "query: What is a level 2 assessment?\n"
     ]
    },
    {
     "data": {
      "text/markdown": [
       "<b>\n",
       "A Level 2 assessment is an assessment conducted by a public water system to identify the possible presence of sanitary defects and defects in distribution system coliform monitoring practices. It includes a review and identification of the minimum elements in subsections (a)(2)(A) through (E) and must be conducted as soon as practical after exceeding any trigger. The assessment must also describe sanitary defects detected (and if applicable, may note no sanitary defects were detected), corrective actions completed, and a proposed timetable for any corrective actions not already completed.</b><br />"
      ],
      "text/plain": [
       "<IPython.core.display.Markdown object>"
      ]
     },
     "metadata": {},
     "output_type": "display_data"
    },
    {
     "name": "stdout",
     "output_type": "stream",
     "text": [
      "----------------------------------------\n",
      "----------------------------------------\n"
     ]
    }
   ],
   "source": [
    "for query in queries[0: 8]:\n",
    "    print(f\"query: {query}\")\n",
    "    # for name, index in indices.items():\n",
    "    #     print(f\"{name}'s token usage:\")\n",
    "    response = query_engine.query(query)\n",
    "        # print(f\"{name} response:\")\n",
    "    display(Markdown(f\"<b>{response}</b><br />\"))\n",
    "    print(\"----------------------------------------\")\n",
    "    print(\"----------------------------------------\")"
   ]
  },
  {
   "attachments": {},
   "cell_type": "markdown",
   "metadata": {
    "tags": []
   },
   "source": [
    "### Evaluation"
   ]
  },
  {
   "cell_type": "code",
   "execution_count": 22,
   "metadata": {},
   "outputs": [],
   "source": [
    "# define evaluator\n",
    "evaluator = QueryResponseEvaluator(service_context=service_context)"
   ]
  },
  {
   "attachments": {},
   "cell_type": "markdown",
   "metadata": {
    "tags": []
   },
   "source": [
    "#### set of multiple choices question"
   ]
  },
  {
   "cell_type": "code",
   "execution_count": 23,
   "metadata": {},
   "outputs": [],
   "source": [
    "evaluationSet = [\n",
    "    {\"query\":\n",
    "    '''\n",
    "    When should a raw water sample be collected for a groundwater source that is treated \n",
    "    with a primary or residual disinfectant on a continuous basis and is not monitored \n",
    "    pursuant to Section 64654.8(b)(1)(B)? Select one from the following list of options:\n",
    "    A) Each calendar quarter, with samples collected during the same month\n",
    "    B) Each month, with samples collected during the same week\n",
    "    C) Each year, with samples collected during the same season\n",
    "    D) Only if the raw water sample is total coliform-positive\n",
    "    ''', \"answer\": \"A\"}\n",
    "    ,\n",
    "    {\"query\":\n",
    "    '''\n",
    "    What is the requirement for choosing sample sites for bacteriological sampling?\n",
    "    a) The sample sites should be located in the same pressure zone\n",
    "    b) The sample sites should be located in the same water source\n",
    "    c) The sample sites should be representative of water throughout the distribution system\n",
    "    d) The sample sites should be located in the same distribution reservoir\n",
    "    ''', \"answer\": \"C\"}\n",
    "    , \n",
    "    {\"query\": \n",
    "    '''\n",
    "    What is the minimum number of routine bacteriological water samples required for a transient-noncommunity water system using only groundwater and serving more than 1000 persons during any month?\n",
    "    a) One sample per quarter\n",
    "    b) One sample per month\n",
    "    c) Based on the known population served\n",
    "    d) Not required to collect routine samples\n",
    "    ''', \"answer\": \"C\"},\n",
    "    {\"query\": \n",
    "     '''\n",
    "    What is the deadline for reporting analytical results of all required samples collected for a public water system in a calendar month?\n",
    "    a) The first day of the following month\n",
    "    b) The fifth day of the following month\n",
    "    c) The tenth day of the following month\n",
    "    d) The fifteenth day of the following month\n",
    "    ''', \"answer\": \"C\"},\n",
    "    {\"query\": \n",
    "     '''What is the consequence for a public water system in violation of the monitoring requirement of subsection (a) to test the same sample for E. coli following a total coliform-positive routine sample?\n",
    "    a) A fine will be imposed on the public water system\n",
    "    b) The public water system will be shut down\n",
    "    c) The public water system must notify the State Board within 10 days and notify the public\n",
    "    d) The public water system must notify the State Board within 24 hours and notify the public\n",
    "    ''', \"answer\": \"C\"},\n",
    "    {\"query\": \n",
    "     '''What is the minimum number of repeat samples required for each total coliform-positive sample?\n",
    "    a) One\n",
    "    b) Two\n",
    "    c) Three\n",
    "    d) Four\n",
    "    ''', \"answer\": \"C\"},\n",
    "    {\"query\": \n",
    "     '''When collecting the repeat sample set, where should a public water system collect at least one repeat sample from?\n",
    "    a) Anywhere within the distribution system\n",
    "    b) At least five service connections upstream or downstream of the original site\n",
    "    c) At least one mile upstream or downstream of the original site\n",
    "    d) At least one repeat sample should be from upstream and one from downstream unless there is no upstream and/or downstream service connection\n",
    "     ''', \"answer\": \"D\"},\n",
    "    {\"query\": \n",
    "     ''' What should a public water system do if one or more samples in the repeat sample set is total coliform-positive?\n",
    "    a) Collect and have analyzed an additional set of repeat samples\n",
    "    b) Notify the State Board by the end of the day on which this is determined\n",
    "    c) Repeat the process until either no total coliforms are detected in one complete repeat sample set or the system determines that a coliform treatment technique trigger has been exceeded\n",
    "    d) All of the above\n",
    "    ''', \"answer\": \"D\"},\n",
    "    {\"query\": \n",
    "     '''What should a public water system do if a total coliform routine or repeat sample result indicative of the absence of total coliforms has been declared invalid by the laboratory due to interference problems?\n",
    "    A) Collect a replacement sample from a different location\n",
    "    B) Wait for the laboratory to provide a valid result\n",
    "    C) Collect a replacement sample from the same location as the original sample within 24 hours of being notified of the interference problem\n",
    "    D) Notify the State Board within 10 days after it learns of the invalidation\n",
    "    ''', \"answer\": \"C\"},\n",
    "    {\"query\": \n",
    "     '''What happens to a total coliform-positive sample invalidated under section 64425?\n",
    "    A) It counts towards meeting the minimum routine and repeat sample monitoring requirements\n",
    "    B) It does not count towards meeting the minimum routine and repeat sample monitoring requirements\n",
    "    C) It is automatically replaced with a valid sample\n",
    "    D) It is reported to the public pursuant to Sections 64463, 64463.7, and 64465\n",
    "    ''', \"answer\": \"B\"},\n",
    "    {\"query\": \n",
    "     '''What is considered a possible significant rise in bacterial count in a public water system collecting at least 40 samples per month?\n",
    "    a) A total coliform-positive routine sample followed by one total coliform-positive repeat sample\n",
    "    b) A total coliform-positive routine sample followed by two total coliform-positive repeat samples\n",
    "    c) A total coliform-positive routine sample followed by three total coliform-positive repeat samples\n",
    "    d) A total coliform-positive routine sample followed by four total coliform-positive repeat samples\n",
    "    ''', \"answer\": \"B\"},\n",
    "    {\"query\": \n",
    "     '''What should a public water system do when a significant rise in bacterial count is detected?\n",
    "    a) Conduct an investigation and submit a report to the State Board within 48 hours\n",
    "    b) Contact the State Board within 24 hours and conduct an investigation within 48 hours\n",
    "    c) Contact the State Board by the end of the day and conduct an investigation within 24 hours\n",
    "    d) Contact the State Board within 48 hours and conduct an investigation within 72 hours\n",
    "    ''', \"answer\": \"C\"},\n",
    "    {\"query\": \n",
    "     '''When is a public water system in violation of the E. coli MCL?\n",
    "    a) When the system has a total coliform-positive routine sample followed by a E. coli-positive repeat sample\n",
    "    b) When the system fails to take all required repeat samples following an E. coli-positive routine sample\n",
    "    c) When the system fails to test for E. coli when any repeat sample tests positive for total coliform\n",
    "    d) All of the above\n",
    "    ''', \"answer\": \"D\"},\n",
    "    {\"query\": \n",
    "     '''What is the coliform treatment technique violation?\n",
    "    a) When a public water system fails to complete a State Board-approved start-up procedure prior to serving water to the public.\n",
    "    b) When a public water system exceeds a treatment technique trigger specified in Section 64426.7 and then fails to conduct the required assessment or corrective actions within the timeframe specified in Section 64426.8.\n",
    "    c) When a public water system fails to notify the State Board by the end of the next business day on which the violation is determined.\n",
    "    d) When a public water system fails to notify the public pursuant to Sections 64463, 64463.4, and 64465.\n",
    "    ''', \"answer\": \"B\"},\n",
    "    {\"query\": \n",
    "     '''What is the consequence of a public water system violating the coliform treatment technique?\n",
    "    a) The system will be shut down permanently.\n",
    "    b) The system will be fined by the State Board.\n",
    "    c) The system will be required to notify the State Board by the end of the next business day on which the violation is determined.\n",
    "    d) The system will be required to notify the public pursuant to Sections 64463, 64463.4, and 64465.\n",
    "    ''', \"answer\": \"D\"},\n",
    "    {\"query\": \n",
    "     '''What is a Level 1 treatment technique trigger for coliform in California drinking water regulations?\n",
    "    a) For a system taking 40 or more samples per month, the system exceeds 5.0% total coliform-positive samples for the month\n",
    "    b) For a system taking fewer than 40 samples per month, the system has two or more total coliform-positive samples in the same month\n",
    "    c) The system fails to take every required repeat samples after any single total coliform-positive sample\n",
    "    d) The system has an E. coli MCL violation\n",
    "    ''', \"answer\": \"A\"},\n",
    "    {\"query\": \n",
    "     '''What is a Level 2 treatment technique trigger for coliform in California drinking water regulations?\n",
    "    a) For a system taking 40 or more samples per month, the system exceeds 5.0% total coliform-positive samples for the month\n",
    "    b) For a system taking fewer than 40 samples per month, the system has two or more total coliform-positive samples in the same month\n",
    "    c) The system has an E. coli MCL violation\n",
    "    d) The system has a second Level 1 treatment technique trigger, within a rolling 12-month period\n",
    "    ''', \"answer\": \"C or D\"},\n",
    "    {\"query\": \n",
    "    '''What is the purpose of a Level 1 assessment in California drinking water regulations?\n",
    "    a) To identify the possible presence of sanitary defects and defects in distribution system coliform monitoring practices\n",
    "    b) To comply with State Board directives\n",
    "    c) To arrange with the State Board to conduct a Level 2 assessment\n",
    "    d) To notify the public of violations\n",
    "    ''', \"answer\": \"A\"},\n",
    "    {\"query\": \n",
    "     ''' What is the timeframe for a public water system to submit a completed assessment to the State Board after exceeding a trigger for a Level 2 treatment technique?\n",
    "    a) Within 10 days\n",
    "    b) Within 20 days\n",
    "    c) Within 30 days\n",
    "    d) Within 40 days\n",
    "    ''', \"answer\": \"C\"},\n",
    "    {\"query\": \n",
    "     '''What is required for a seasonal system to obtain written State Board approval to serve water to the public?\n",
    "    a) Completion of a State Board-approved start-up procedure\n",
    "    b) Certification of compliance with the State Board-approved start-up procedure\n",
    "    c) Submission of results of bacteriological and disinfectant residual monitoring\n",
    "    d) All of the above\n",
    "    ''', \"answer\": \"D\"}\n",
    "]"
   ]
  },
  {
   "attachments": {},
   "cell_type": "markdown",
   "metadata": {
    "tags": []
   },
   "source": [
    "#### first evaluation"
   ]
  },
  {
   "cell_type": "code",
   "execution_count": 24,
   "metadata": {},
   "outputs": [
    {
     "name": "stdout",
     "output_type": "stream",
     "text": [
      "no. 1: \n",
      " expected A, \n",
      " actual A) Each calendar quarter, with samples collected during the same month, \n",
      " duration 2.18s\n",
      "\n",
      "no. 2: \n",
      " expected C, \n",
      " actual C) The sample sites should be representative of water throughout the distribution system, \n",
      " duration 3.34s\n",
      "\n",
      "no. 3: \n",
      " expected C, \n",
      " actual C) Based on the known population served, \n",
      " duration 1.93s\n",
      "\n",
      "no. 4: \n",
      " expected C, \n",
      " actual C) The tenth day of the following month., \n",
      " duration 2.76s\n",
      "\n",
      "no. 5: \n",
      " expected C, \n",
      " actual C) The public water system must notify the State Board within 10 days and notify the public., \n",
      " duration 2.94s\n",
      "\n",
      "no. 6: \n",
      " expected C, \n",
      " actual C) Three, \n",
      " duration 1.48s\n",
      "\n",
      "no. 7: \n",
      " expected D, \n",
      " actual Answer: d) At least one repeat sample should be from upstream and one from downstream unless there is no upstream and/or downstream service connection, \n",
      " duration 3.94s\n",
      "\n",
      "no. 8: \n",
      " expected D, \n",
      " actual d) All of the above, \n",
      " duration 1.99s\n",
      "\n",
      "no. 9: \n",
      " expected C, \n",
      " actual C) Collect a replacement sample from the same location as the original sample within 24 hours of being notified of the interference problem, \n",
      " duration 2.68s\n",
      "\n",
      "no. 10: \n",
      " expected B, \n",
      " actual B) It does not count towards meeting the minimum routine and repeat sample monitoring requirements., \n",
      " duration 2.2s\n",
      "\n",
      "no. 11: \n",
      " expected B, \n",
      " actual Answer: B) A total coliform-positive routine sample followed by two total coliform-positive repeat samples., \n",
      " duration 3.17s\n",
      "\n",
      "no. 12: \n",
      " expected C, \n",
      " actual C) Contact the State Board by the end of the day and conduct an investigation within 24 hours., \n",
      " duration 2.66s\n",
      "\n",
      "no. 13: \n",
      " expected D, \n",
      " actual Answer: d) All of the above, \n",
      " duration 2.19s\n",
      "\n",
      "no. 14: \n",
      " expected B, \n",
      " actual Answer: b) When a public water system exceeds a treatment technique trigger specified in Section 64426.7 and then fails to conduct the required assessment or corrective actions within the timeframe specified in Section 64426.8., \n",
      " duration 4.18s\n",
      "\n",
      "no. 15: \n",
      " expected D, \n",
      " actual Answer: d) The system will be required to notify the public pursuant to Sections 64463, 64463.4, and 64465., \n",
      " duration 3.07s\n",
      "\n",
      "no. 16: \n",
      " expected A, \n",
      " actual Answer: a) For a system taking 40 or more samples per month, the system exceeds 5.0% total coliform-positive samples for the month, \n",
      " duration 4.1s\n",
      "\n",
      "no. 17: \n",
      " expected C or D, \n",
      " actual Answer: d) The system has a second Level 1 treatment technique trigger, within a rolling 12-month period, \n",
      " duration 2.78s\n",
      "\n",
      "no. 18: \n",
      " expected A, \n",
      " actual a) To identify the possible presence of sanitary defects and defects in distribution system coliform monitoring practices, \n",
      " duration 2.15s\n",
      "\n",
      "no. 19: \n",
      " expected C, \n",
      " actual C) Within 30 days, \n",
      " duration 1.38s\n",
      "\n",
      "no. 20: \n",
      " expected D, \n",
      " actual Answer: d) All of the above, \n",
      " duration 1.91s\n",
      "\n"
     ]
    }
   ],
   "source": [
    "import time\n",
    "for index in range(len(evaluationSet)):\n",
    "    query = evaluationSet[index][\"query\"]\n",
    "    answer = evaluationSet[index][\"answer\"]\n",
    "    start = time.time()\n",
    "    response = query_engine.query(query)\n",
    "    stop = time.time()\n",
    "    duration = stop-start\n",
    "    # display the expected and actual response\n",
    "    print(f\"no. {index+1}: \\n expected {answer}, \\n actual {response}, \\n duration {round(duration, 2)}s\\n\")\n",
    "    \n",
    "    # display reference resources\n",
    "    # eval_source_result = evaluator.evaluate_source_nodes(query, response)    \n",
    "    # display_eval_sources(query_str, response, eval_source_result)"
   ]
  },
  {
   "attachments": {},
   "cell_type": "markdown",
   "metadata": {
    "jp-MarkdownHeadingCollapsed": true,
    "tags": []
   },
   "source": [
    "#### second evaluation"
   ]
  },
  {
   "cell_type": "code",
   "execution_count": 89,
   "metadata": {},
   "outputs": [
    {
     "name": "stdout",
     "output_type": "stream",
     "text": [
      "no. 1: \n",
      " expected A, \n",
      " actual A) Each calendar quarter, with samples collected during the same month, \n",
      " duration 5.44s\n",
      "\n",
      "no. 2: \n",
      " expected C, \n",
      " actual C) The sample sites should be representative of water throughout the distribution system, \n",
      " duration 2.14s\n",
      "\n",
      "no. 3: \n",
      " expected C, \n",
      " actual C) Based on the known population served, \n",
      " duration 2.99s\n",
      "\n",
      "no. 4: \n",
      " expected C, \n",
      " actual C) The tenth day of the following month., \n",
      " duration 1.99s\n",
      "\n",
      "no. 5: \n",
      " expected C, \n",
      " actual C) The public water system must notify the State Board within 10 days and notify the public., \n",
      " duration 2.51s\n",
      "\n",
      "no. 6: \n",
      " expected C, \n",
      " actual C) Three, \n",
      " duration 1.72s\n",
      "\n",
      "no. 7: \n",
      " expected D, \n",
      " actual Answer: d) At least one repeat sample should be from upstream and one from downstream unless there is no upstream and/or downstream service connection, \n",
      " duration 3.41s\n",
      "\n",
      "no. 8: \n",
      " expected D, \n",
      " actual d) All of the above, \n",
      " duration 1.96s\n",
      "\n",
      "no. 9: \n",
      " expected C, \n",
      " actual C) Collect a replacement sample from the same location as the original sample within 24 hours of being notified of the interference problem, \n",
      " duration 3.18s\n",
      "\n",
      "no. 10: \n",
      " expected B, \n",
      " actual B) It does not count towards meeting the minimum routine and repeat sample monitoring requirements., \n",
      " duration 3.19s\n",
      "\n",
      "no. 11: \n",
      " expected B, \n",
      " actual Answer: B) A total coliform-positive routine sample followed by two total coliform-positive repeat samples., \n",
      " duration 3.05s\n",
      "\n",
      "no. 12: \n",
      " expected C, \n",
      " actual C) Contact the State Board by the end of the day and conduct an investigation within 24 hours., \n",
      " duration 3.09s\n",
      "\n",
      "no. 13: \n",
      " expected D, \n",
      " actual Answer: d) All of the above, \n",
      " duration 1.89s\n",
      "\n",
      "no. 14: \n",
      " expected B, \n",
      " actual Answer: b) When a public water system exceeds a treatment technique trigger specified in Section 64426.7 and then fails to conduct the required assessment or corrective actions within the timeframe specified in Section 64426.8., \n",
      " duration 4.69s\n",
      "\n",
      "no. 15: \n",
      " expected D, \n",
      " actual Answer: d) The system will be required to notify the public pursuant to Sections 64463, 64463.4, and 64465., \n",
      " duration 3.34s\n",
      "\n",
      "no. 16: \n",
      " expected A, \n",
      " actual Answer: a) For a system taking 40 or more samples per month, the system exceeds 5.0% total coliform-positive samples for the month, \n",
      " duration 4.24s\n",
      "\n",
      "no. 17: \n",
      " expected C or D, \n",
      " actual Answer: d) The system has a second Level 1 treatment technique trigger, within a rolling 12-month period, \n",
      " duration 3.1s\n",
      "\n",
      "no. 18: \n",
      " expected A, \n",
      " actual a) To identify the possible presence of sanitary defects and defects in distribution system coliform monitoring practices, \n",
      " duration 3.64s\n",
      "\n",
      "no. 19: \n",
      " expected C, \n",
      " actual C) Within 30 days, \n",
      " duration 2.07s\n",
      "\n",
      "no. 20: \n",
      " expected D, \n",
      " actual Answer: d) All of the above, \n",
      " duration 2.7s\n",
      "\n"
     ]
    }
   ],
   "source": [
    "import time\n",
    "for index in range(len(evaluationSet)):\n",
    "    query = evaluationSet[index][\"query\"]\n",
    "    answer = evaluationSet[index][\"answer\"]\n",
    "    start = time.time()\n",
    "    response = query_engine.query(query)\n",
    "    stop = time.time()\n",
    "    duration = stop-start\n",
    "    print(f\"no. {index+1}: \\n expected {answer}, \\n actual {response}, \\n duration {round(duration, 2)}s\\n\")"
   ]
  },
  {
   "attachments": {},
   "cell_type": "markdown",
   "metadata": {
    "jp-MarkdownHeadingCollapsed": true,
    "tags": []
   },
   "source": [
    "#### third evaluation"
   ]
  },
  {
   "cell_type": "code",
   "execution_count": 90,
   "metadata": {},
   "outputs": [
    {
     "name": "stdout",
     "output_type": "stream",
     "text": [
      "no. 1: \n",
      " expected A, \n",
      " actual A) Each calendar quarter, with samples collected during the same month, \n",
      " duration 4.25s\n",
      "\n",
      "no. 2: \n",
      " expected C, \n",
      " actual C) The sample sites should be representative of water throughout the distribution system, \n",
      " duration 2.76s\n",
      "\n",
      "no. 3: \n",
      " expected C, \n",
      " actual C) Based on the known population served, \n",
      " duration 2.24s\n",
      "\n",
      "no. 4: \n",
      " expected C, \n",
      " actual C) The tenth day of the following month., \n",
      " duration 3.15s\n",
      "\n",
      "no. 5: \n",
      " expected C, \n",
      " actual C) The public water system must notify the State Board within 10 days and notify the public., \n",
      " duration 2.66s\n",
      "\n",
      "no. 6: \n",
      " expected C, \n",
      " actual C) Three, \n",
      " duration 1.6s\n",
      "\n",
      "no. 7: \n",
      " expected D, \n",
      " actual Answer: d) At least one repeat sample should be from upstream and one from downstream unless there is no upstream and/or downstream service connection, \n",
      " duration 3.7s\n",
      "\n",
      "no. 8: \n",
      " expected D, \n",
      " actual d) All of the above, \n",
      " duration 3.08s\n",
      "\n",
      "no. 9: \n",
      " expected C, \n",
      " actual C) Collect a replacement sample from the same location as the original sample within 24 hours of being notified of the interference problem, \n",
      " duration 3.49s\n",
      "\n",
      "no. 10: \n",
      " expected B, \n",
      " actual B) It does not count towards meeting the minimum routine and repeat sample monitoring requirements., \n",
      " duration 2.6s\n",
      "\n",
      "no. 11: \n",
      " expected B, \n",
      " actual Answer: B) A total coliform-positive routine sample followed by two total coliform-positive repeat samples., \n",
      " duration 3.16s\n",
      "\n",
      "no. 12: \n",
      " expected C, \n",
      " actual C) Contact the State Board by the end of the day and conduct an investigation within 24 hours., \n",
      " duration 3.98s\n",
      "\n",
      "no. 13: \n",
      " expected D, \n",
      " actual Answer: d) All of the above, \n",
      " duration 2.3s\n",
      "\n",
      "no. 14: \n",
      " expected B, \n",
      " actual Answer: b) When a public water system exceeds a treatment technique trigger specified in Section 64426.7 and then fails to conduct the required assessment or corrective actions within the timeframe specified in Section 64426.8., \n",
      " duration 4.88s\n",
      "\n",
      "no. 15: \n",
      " expected D, \n",
      " actual Answer: d) The system will be required to notify the public pursuant to Sections 64463, 64463.4, and 64465., \n",
      " duration 4.58s\n",
      "\n",
      "no. 16: \n",
      " expected A, \n",
      " actual Answer: a) For a system taking 40 or more samples per month, the system exceeds 5.0% total coliform-positive samples for the month, \n",
      " duration 4.0s\n",
      "\n",
      "no. 17: \n",
      " expected C or D, \n",
      " actual Answer: d) The system has a second Level 1 treatment technique trigger, within a rolling 12-month period, \n",
      " duration 3.36s\n",
      "\n",
      "no. 18: \n",
      " expected A, \n",
      " actual a) To identify the possible presence of sanitary defects and defects in distribution system coliform monitoring practices, \n",
      " duration 3.64s\n",
      "\n",
      "no. 19: \n",
      " expected C, \n",
      " actual C) Within 30 days, \n",
      " duration 1.95s\n",
      "\n",
      "no. 20: \n",
      " expected D, \n",
      " actual Answer: d) All of the above, \n",
      " duration 1.62s\n",
      "\n"
     ]
    }
   ],
   "source": [
    "import time\n",
    "for index in range(len(evaluationSet)):\n",
    "    query = evaluationSet[index][\"query\"]\n",
    "    answer = evaluationSet[index][\"answer\"]\n",
    "    start = time.time()\n",
    "    response = query_engine.query(query)\n",
    "    stop = time.time()\n",
    "    duration = stop-start\n",
    "    print(f\"no. {index+1}: \\n expected {answer}, \\n actual {response}, \\n duration {round(duration, 2)}s\\n\")"
   ]
  }
 ],
 "metadata": {
  "colab": {
   "provenance": []
  },
  "kernelspec": {
   "display_name": "default:Python",
   "language": "python",
   "name": "conda-env-default-py"
  },
  "language_info": {
   "codemirror_mode": {
    "name": "ipython",
    "version": 3
   },
   "file_extension": ".py",
   "mimetype": "text/x-python",
   "name": "python",
   "nbconvert_exporter": "python",
   "pygments_lexer": "ipython3",
   "version": "3.9.13"
  }
 },
 "nbformat": 4,
 "nbformat_minor": 4
}
