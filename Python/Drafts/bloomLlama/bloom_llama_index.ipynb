{
 "cells": [
  {
   "attachments": {},
   "cell_type": "markdown",
   "metadata": {
    "id": "WiVAOY7t991j"
   },
   "source": [
    "What we are developing here is called generative question-answering model using indexing library llama-index and text generation Bloom model.\n",
    "- https://wandb.ai/mostafaibrahim17/ml-articles/reports/The-Answer-Key-Unlocking-the-Potential-of-Question-Answering-With-NLP--VmlldzozNTcxMDE3"
   ]
  },
  {
   "cell_type": "code",
   "execution_count": 1,
   "metadata": {
    "colab": {
     "base_uri": "https://localhost:8080/"
    },
    "id": "uSkcOdxXCfRs",
    "outputId": "2515ba80-5ee9-4b37-8f86-7e36608a4b64"
   },
   "outputs": [
    {
     "name": "stdout",
     "output_type": "stream",
     "text": [
      "Requirement already satisfied: llama_index in ./.conda/envs/default/lib/python3.9/site-packages (0.4.36)\n",
      "Collecting llama_index\n",
      "  Downloading llama_index-0.5.2.tar.gz (161 kB)\n",
      "\u001b[2K     \u001b[90m━━━━━━━━━━━━━━━━━━━━━━━━━━━━━━━━━━━━━━━\u001b[0m \u001b[32m161.7/161.7 kB\u001b[0m \u001b[31m7.8 MB/s\u001b[0m eta \u001b[36m0:00:00\u001b[0m\n",
      "\u001b[?25h  Preparing metadata (setup.py) ... \u001b[?25ldone\n",
      "\u001b[?25hRequirement already satisfied: dataclasses_json in ./.conda/envs/default/lib/python3.9/site-packages (from llama_index) (0.5.7)\n",
      "Requirement already satisfied: langchain in ./.conda/envs/default/lib/python3.9/site-packages (from llama_index) (0.0.123)\n",
      "Requirement already satisfied: numpy in ./.conda/envs/default/lib/python3.9/site-packages (from llama_index) (1.24.2)\n",
      "Requirement already satisfied: tenacity<9.0.0,>=8.2.0 in ./.conda/envs/default/lib/python3.9/site-packages (from llama_index) (8.2.2)\n",
      "Requirement already satisfied: openai>=0.26.4 in ./.conda/envs/default/lib/python3.9/site-packages (from llama_index) (0.27.2)\n",
      "Requirement already satisfied: pandas in ./.conda/envs/default/lib/python3.9/site-packages (from llama_index) (1.5.3)\n",
      "Requirement already satisfied: tiktoken in ./.conda/envs/default/lib/python3.9/site-packages (from llama_index) (0.3.2)\n",
      "Requirement already satisfied: requests>=2.20 in ./.conda/envs/default/lib/python3.9/site-packages (from openai>=0.26.4->llama_index) (2.28.2)\n",
      "Requirement already satisfied: aiohttp in ./.conda/envs/default/lib/python3.9/site-packages (from openai>=0.26.4->llama_index) (3.8.4)\n",
      "Requirement already satisfied: tqdm in ./.conda/envs/default/lib/python3.9/site-packages (from openai>=0.26.4->llama_index) (4.65.0)\n",
      "Requirement already satisfied: marshmallow<4.0.0,>=3.3.0 in ./.conda/envs/default/lib/python3.9/site-packages (from dataclasses_json->llama_index) (3.19.0)\n",
      "Requirement already satisfied: typing-inspect>=0.4.0 in ./.conda/envs/default/lib/python3.9/site-packages (from dataclasses_json->llama_index) (0.8.0)\n",
      "Requirement already satisfied: marshmallow-enum<2.0.0,>=1.5.1 in ./.conda/envs/default/lib/python3.9/site-packages (from dataclasses_json->llama_index) (1.5.1)\n",
      "Requirement already satisfied: pydantic<2,>=1 in ./.conda/envs/default/lib/python3.9/site-packages (from langchain->llama_index) (1.10.7)\n",
      "Requirement already satisfied: SQLAlchemy<2,>=1 in ./.conda/envs/default/lib/python3.9/site-packages (from langchain->llama_index) (1.4.47)\n",
      "Requirement already satisfied: PyYAML>=5.4.1 in ./.conda/envs/default/lib/python3.9/site-packages (from langchain->llama_index) (6.0)\n",
      "Requirement already satisfied: python-dateutil>=2.8.1 in ./.conda/envs/default/lib/python3.9/site-packages (from pandas->llama_index) (2.8.2)\n",
      "Requirement already satisfied: pytz>=2020.1 in ./.conda/envs/default/lib/python3.9/site-packages (from pandas->llama_index) (2022.7.1)\n",
      "Requirement already satisfied: regex>=2022.1.18 in ./.conda/envs/default/lib/python3.9/site-packages (from tiktoken->llama_index) (2022.10.31)\n",
      "Requirement already satisfied: aiosignal>=1.1.2 in ./.conda/envs/default/lib/python3.9/site-packages (from aiohttp->openai>=0.26.4->llama_index) (1.3.1)\n",
      "Requirement already satisfied: async-timeout<5.0,>=4.0.0a3 in ./.conda/envs/default/lib/python3.9/site-packages (from aiohttp->openai>=0.26.4->llama_index) (4.0.2)\n",
      "Requirement already satisfied: charset-normalizer<4.0,>=2.0 in ./.conda/envs/default/lib/python3.9/site-packages (from aiohttp->openai>=0.26.4->llama_index) (3.1.0)\n",
      "Requirement already satisfied: frozenlist>=1.1.1 in ./.conda/envs/default/lib/python3.9/site-packages (from aiohttp->openai>=0.26.4->llama_index) (1.3.3)\n",
      "Requirement already satisfied: multidict<7.0,>=4.5 in ./.conda/envs/default/lib/python3.9/site-packages (from aiohttp->openai>=0.26.4->llama_index) (6.0.4)\n",
      "Requirement already satisfied: yarl<2.0,>=1.0 in ./.conda/envs/default/lib/python3.9/site-packages (from aiohttp->openai>=0.26.4->llama_index) (1.8.2)\n",
      "Requirement already satisfied: attrs>=17.3.0 in ./.conda/envs/default/lib/python3.9/site-packages (from aiohttp->openai>=0.26.4->llama_index) (22.1.0)\n",
      "Requirement already satisfied: packaging>=17.0 in ./.conda/envs/default/lib/python3.9/site-packages (from marshmallow<4.0.0,>=3.3.0->dataclasses_json->llama_index) (21.3)\n",
      "Requirement already satisfied: typing-extensions>=4.2.0 in ./.conda/envs/default/lib/python3.9/site-packages (from pydantic<2,>=1->langchain->llama_index) (4.4.0)\n",
      "Requirement already satisfied: six>=1.5 in ./.conda/envs/default/lib/python3.9/site-packages (from python-dateutil>=2.8.1->pandas->llama_index) (1.16.0)\n",
      "Requirement already satisfied: urllib3<1.27,>=1.21.1 in ./.conda/envs/default/lib/python3.9/site-packages (from requests>=2.20->openai>=0.26.4->llama_index) (1.26.14)\n",
      "Requirement already satisfied: idna<4,>=2.5 in ./.conda/envs/default/lib/python3.9/site-packages (from requests>=2.20->openai>=0.26.4->llama_index) (3.4)\n",
      "Requirement already satisfied: certifi>=2017.4.17 in ./.conda/envs/default/lib/python3.9/site-packages (from requests>=2.20->openai>=0.26.4->llama_index) (2022.12.7)\n",
      "Requirement already satisfied: greenlet!=0.4.17 in ./.conda/envs/default/lib/python3.9/site-packages (from SQLAlchemy<2,>=1->langchain->llama_index) (2.0.2)\n",
      "Requirement already satisfied: mypy-extensions>=0.3.0 in ./.conda/envs/default/lib/python3.9/site-packages (from typing-inspect>=0.4.0->dataclasses_json->llama_index) (1.0.0)\n",
      "Requirement already satisfied: pyparsing!=3.0.5,>=2.0.2 in ./.conda/envs/default/lib/python3.9/site-packages (from packaging>=17.0->marshmallow<4.0.0,>=3.3.0->dataclasses_json->llama_index) (3.0.9)\n",
      "Building wheels for collected packages: llama_index\n",
      "  Building wheel for llama_index (setup.py) ... \u001b[?25ldone\n",
      "\u001b[?25h  Created wheel for llama_index: filename=llama_index-0.5.2-py3-none-any.whl size=243234 sha256=7d77c7bdbd5e63ded89da2213d1c2a99a6befc044a85e2bec982cce71a20e113\n",
      "  Stored in directory: /home/studio-lab-user/.cache/pip/wheels/59/c2/96/557e4ddce303dc8df195782e3f56d0fd74c176f9716e4c9d11\n",
      "Successfully built llama_index\n",
      "Installing collected packages: llama_index\n",
      "  Attempting uninstall: llama_index\n",
      "    Found existing installation: llama-index 0.4.36\n",
      "    Uninstalling llama-index-0.4.36:\n",
      "      Successfully uninstalled llama-index-0.4.36\n",
      "Successfully installed llama_index-0.5.2\n",
      "Requirement already satisfied: transformers in ./.conda/envs/default/lib/python3.9/site-packages (4.26.1)\n",
      "Collecting transformers\n",
      "  Downloading transformers-4.27.4-py3-none-any.whl (6.8 MB)\n",
      "\u001b[2K     \u001b[90m━━━━━━━━━━━━━━━━━━━━━━━━━━━━━━━━━━━━━━━━\u001b[0m \u001b[32m6.8/6.8 MB\u001b[0m \u001b[31m43.4 MB/s\u001b[0m eta \u001b[36m0:00:00\u001b[0m00:01\u001b[0m00:01\u001b[0m\n",
      "\u001b[?25hRequirement already satisfied: requests in ./.conda/envs/default/lib/python3.9/site-packages (from transformers) (2.28.2)\n",
      "Requirement already satisfied: huggingface-hub<1.0,>=0.11.0 in ./.conda/envs/default/lib/python3.9/site-packages (from transformers) (0.13.2)\n",
      "Requirement already satisfied: filelock in ./.conda/envs/default/lib/python3.9/site-packages (from transformers) (3.9.1)\n",
      "Requirement already satisfied: packaging>=20.0 in ./.conda/envs/default/lib/python3.9/site-packages (from transformers) (21.3)\n",
      "Requirement already satisfied: tokenizers!=0.11.3,<0.14,>=0.11.1 in ./.conda/envs/default/lib/python3.9/site-packages (from transformers) (0.13.2)\n",
      "Requirement already satisfied: tqdm>=4.27 in ./.conda/envs/default/lib/python3.9/site-packages (from transformers) (4.65.0)\n",
      "Requirement already satisfied: pyyaml>=5.1 in ./.conda/envs/default/lib/python3.9/site-packages (from transformers) (6.0)\n",
      "Requirement already satisfied: regex!=2019.12.17 in ./.conda/envs/default/lib/python3.9/site-packages (from transformers) (2022.10.31)\n",
      "Requirement already satisfied: numpy>=1.17 in ./.conda/envs/default/lib/python3.9/site-packages (from transformers) (1.24.2)\n",
      "Requirement already satisfied: typing-extensions>=3.7.4.3 in ./.conda/envs/default/lib/python3.9/site-packages (from huggingface-hub<1.0,>=0.11.0->transformers) (4.4.0)\n",
      "Requirement already satisfied: pyparsing!=3.0.5,>=2.0.2 in ./.conda/envs/default/lib/python3.9/site-packages (from packaging>=20.0->transformers) (3.0.9)\n",
      "Requirement already satisfied: charset-normalizer<4,>=2 in ./.conda/envs/default/lib/python3.9/site-packages (from requests->transformers) (3.1.0)\n",
      "Requirement already satisfied: urllib3<1.27,>=1.21.1 in ./.conda/envs/default/lib/python3.9/site-packages (from requests->transformers) (1.26.14)\n",
      "Requirement already satisfied: certifi>=2017.4.17 in ./.conda/envs/default/lib/python3.9/site-packages (from requests->transformers) (2022.12.7)\n",
      "Requirement already satisfied: idna<4,>=2.5 in ./.conda/envs/default/lib/python3.9/site-packages (from requests->transformers) (3.4)\n",
      "Installing collected packages: transformers\n",
      "  Attempting uninstall: transformers\n",
      "    Found existing installation: transformers 4.26.1\n",
      "    Uninstalling transformers-4.26.1:\n",
      "      Successfully uninstalled transformers-4.26.1\n",
      "Successfully installed transformers-4.27.4\n",
      "Requirement already satisfied: panda in ./.conda/envs/default/lib/python3.9/site-packages (0.3.1)\n",
      "Requirement already satisfied: requests in ./.conda/envs/default/lib/python3.9/site-packages (from panda) (2.28.2)\n",
      "Requirement already satisfied: setuptools in ./.conda/envs/default/lib/python3.9/site-packages (from panda) (65.5.1)\n",
      "Requirement already satisfied: urllib3<1.27,>=1.21.1 in ./.conda/envs/default/lib/python3.9/site-packages (from requests->panda) (1.26.14)\n",
      "Requirement already satisfied: idna<4,>=2.5 in ./.conda/envs/default/lib/python3.9/site-packages (from requests->panda) (3.4)\n",
      "Requirement already satisfied: certifi>=2017.4.17 in ./.conda/envs/default/lib/python3.9/site-packages (from requests->panda) (2022.12.7)\n",
      "Requirement already satisfied: charset-normalizer<4,>=2 in ./.conda/envs/default/lib/python3.9/site-packages (from requests->panda) (3.1.0)\n",
      "Requirement already satisfied: numpy in ./.conda/envs/default/lib/python3.9/site-packages (1.24.2)\n",
      "Requirement already satisfied: torch in ./.conda/envs/default/lib/python3.9/site-packages (1.13.1)\n",
      "Requirement already satisfied: torchvision in ./.conda/envs/default/lib/python3.9/site-packages (0.14.1)\n",
      "Requirement already satisfied: torchaudio in ./.conda/envs/default/lib/python3.9/site-packages (0.13.1)\n",
      "Requirement already satisfied: typing-extensions in ./.conda/envs/default/lib/python3.9/site-packages (from torch) (4.4.0)\n",
      "Requirement already satisfied: nvidia-cuda-runtime-cu11==11.7.99 in ./.conda/envs/default/lib/python3.9/site-packages (from torch) (11.7.99)\n",
      "Requirement already satisfied: nvidia-cudnn-cu11==8.5.0.96 in ./.conda/envs/default/lib/python3.9/site-packages (from torch) (8.5.0.96)\n",
      "Requirement already satisfied: nvidia-cuda-nvrtc-cu11==11.7.99 in ./.conda/envs/default/lib/python3.9/site-packages (from torch) (11.7.99)\n",
      "Requirement already satisfied: nvidia-cublas-cu11==11.10.3.66 in ./.conda/envs/default/lib/python3.9/site-packages (from torch) (11.10.3.66)\n",
      "Requirement already satisfied: setuptools in ./.conda/envs/default/lib/python3.9/site-packages (from nvidia-cublas-cu11==11.10.3.66->torch) (65.5.1)\n",
      "Requirement already satisfied: wheel in ./.conda/envs/default/lib/python3.9/site-packages (from nvidia-cublas-cu11==11.10.3.66->torch) (0.38.4)\n",
      "Requirement already satisfied: pillow!=8.3.*,>=5.3.0 in ./.conda/envs/default/lib/python3.9/site-packages (from torchvision) (9.4.0)\n",
      "Requirement already satisfied: requests in ./.conda/envs/default/lib/python3.9/site-packages (from torchvision) (2.28.2)\n",
      "Requirement already satisfied: numpy in ./.conda/envs/default/lib/python3.9/site-packages (from torchvision) (1.24.2)\n",
      "Requirement already satisfied: certifi>=2017.4.17 in ./.conda/envs/default/lib/python3.9/site-packages (from requests->torchvision) (2022.12.7)\n",
      "Requirement already satisfied: charset-normalizer<4,>=2 in ./.conda/envs/default/lib/python3.9/site-packages (from requests->torchvision) (3.1.0)\n",
      "Requirement already satisfied: urllib3<1.27,>=1.21.1 in ./.conda/envs/default/lib/python3.9/site-packages (from requests->torchvision) (1.26.14)\n",
      "Requirement already satisfied: idna<4,>=2.5 in ./.conda/envs/default/lib/python3.9/site-packages (from requests->torchvision) (3.4)\n",
      "Requirement already satisfied: langchain in ./.conda/envs/default/lib/python3.9/site-packages (0.0.123)\n",
      "Collecting langchain\n",
      "  Downloading langchain-0.0.127-py3-none-any.whl (462 kB)\n",
      "\u001b[2K     \u001b[90m━━━━━━━━━━━━━━━━━━━━━━━━━━━━━━━━━━━━━━\u001b[0m \u001b[32m462.6/462.6 kB\u001b[0m \u001b[31m21.6 MB/s\u001b[0m eta \u001b[36m0:00:00\u001b[0m\n",
      "\u001b[?25hRequirement already satisfied: dataclasses-json<0.6.0,>=0.5.7 in ./.conda/envs/default/lib/python3.9/site-packages (from langchain) (0.5.7)\n",
      "Requirement already satisfied: aiohttp<4.0.0,>=3.8.3 in ./.conda/envs/default/lib/python3.9/site-packages (from langchain) (3.8.4)\n",
      "Requirement already satisfied: pydantic<2,>=1 in ./.conda/envs/default/lib/python3.9/site-packages (from langchain) (1.10.7)\n",
      "Requirement already satisfied: numpy<2,>=1 in ./.conda/envs/default/lib/python3.9/site-packages (from langchain) (1.24.2)\n",
      "Requirement already satisfied: tenacity<9.0.0,>=8.1.0 in ./.conda/envs/default/lib/python3.9/site-packages (from langchain) (8.2.2)\n",
      "Requirement already satisfied: PyYAML>=5.4.1 in ./.conda/envs/default/lib/python3.9/site-packages (from langchain) (6.0)\n",
      "Requirement already satisfied: requests<3,>=2 in ./.conda/envs/default/lib/python3.9/site-packages (from langchain) (2.28.2)\n",
      "Requirement already satisfied: SQLAlchemy<2,>=1 in ./.conda/envs/default/lib/python3.9/site-packages (from langchain) (1.4.47)\n",
      "Requirement already satisfied: attrs>=17.3.0 in ./.conda/envs/default/lib/python3.9/site-packages (from aiohttp<4.0.0,>=3.8.3->langchain) (22.1.0)\n",
      "Requirement already satisfied: async-timeout<5.0,>=4.0.0a3 in ./.conda/envs/default/lib/python3.9/site-packages (from aiohttp<4.0.0,>=3.8.3->langchain) (4.0.2)\n",
      "Requirement already satisfied: charset-normalizer<4.0,>=2.0 in ./.conda/envs/default/lib/python3.9/site-packages (from aiohttp<4.0.0,>=3.8.3->langchain) (3.1.0)\n",
      "Requirement already satisfied: frozenlist>=1.1.1 in ./.conda/envs/default/lib/python3.9/site-packages (from aiohttp<4.0.0,>=3.8.3->langchain) (1.3.3)\n",
      "Requirement already satisfied: multidict<7.0,>=4.5 in ./.conda/envs/default/lib/python3.9/site-packages (from aiohttp<4.0.0,>=3.8.3->langchain) (6.0.4)\n",
      "Requirement already satisfied: aiosignal>=1.1.2 in ./.conda/envs/default/lib/python3.9/site-packages (from aiohttp<4.0.0,>=3.8.3->langchain) (1.3.1)\n",
      "Requirement already satisfied: yarl<2.0,>=1.0 in ./.conda/envs/default/lib/python3.9/site-packages (from aiohttp<4.0.0,>=3.8.3->langchain) (1.8.2)\n",
      "Requirement already satisfied: typing-inspect>=0.4.0 in ./.conda/envs/default/lib/python3.9/site-packages (from dataclasses-json<0.6.0,>=0.5.7->langchain) (0.8.0)\n",
      "Requirement already satisfied: marshmallow<4.0.0,>=3.3.0 in ./.conda/envs/default/lib/python3.9/site-packages (from dataclasses-json<0.6.0,>=0.5.7->langchain) (3.19.0)\n",
      "Requirement already satisfied: marshmallow-enum<2.0.0,>=1.5.1 in ./.conda/envs/default/lib/python3.9/site-packages (from dataclasses-json<0.6.0,>=0.5.7->langchain) (1.5.1)\n",
      "Requirement already satisfied: typing-extensions>=4.2.0 in ./.conda/envs/default/lib/python3.9/site-packages (from pydantic<2,>=1->langchain) (4.4.0)\n",
      "Requirement already satisfied: idna<4,>=2.5 in ./.conda/envs/default/lib/python3.9/site-packages (from requests<3,>=2->langchain) (3.4)\n",
      "Requirement already satisfied: urllib3<1.27,>=1.21.1 in ./.conda/envs/default/lib/python3.9/site-packages (from requests<3,>=2->langchain) (1.26.14)\n",
      "Requirement already satisfied: certifi>=2017.4.17 in ./.conda/envs/default/lib/python3.9/site-packages (from requests<3,>=2->langchain) (2022.12.7)\n",
      "Requirement already satisfied: greenlet!=0.4.17 in ./.conda/envs/default/lib/python3.9/site-packages (from SQLAlchemy<2,>=1->langchain) (2.0.2)\n",
      "Requirement already satisfied: packaging>=17.0 in ./.conda/envs/default/lib/python3.9/site-packages (from marshmallow<4.0.0,>=3.3.0->dataclasses-json<0.6.0,>=0.5.7->langchain) (21.3)\n",
      "Requirement already satisfied: mypy-extensions>=0.3.0 in ./.conda/envs/default/lib/python3.9/site-packages (from typing-inspect>=0.4.0->dataclasses-json<0.6.0,>=0.5.7->langchain) (1.0.0)\n",
      "Requirement already satisfied: pyparsing!=3.0.5,>=2.0.2 in ./.conda/envs/default/lib/python3.9/site-packages (from packaging>=17.0->marshmallow<4.0.0,>=3.3.0->dataclasses-json<0.6.0,>=0.5.7->langchain) (3.0.9)\n",
      "Installing collected packages: langchain\n",
      "  Attempting uninstall: langchain\n",
      "    Found existing installation: langchain 0.0.123\n",
      "    Uninstalling langchain-0.0.123:\n",
      "      Successfully uninstalled langchain-0.0.123\n",
      "Successfully installed langchain-0.0.127\n"
     ]
    }
   ],
   "source": [
    "!pip install -U llama_index\n",
    "!pip install -U transformers\n",
    "!pip install panda\n",
    "!pip install numpy\n",
    "!pip install torch torchvision torchaudio\n",
    "!pip install -U langchain"
   ]
  },
  {
   "cell_type": "code",
   "execution_count": 3,
   "metadata": {
    "id": "Dpyu_2GYCkI5"
   },
   "outputs": [],
   "source": [
    "# Import necessary packages\n",
    "# from llama_index import GPTSimpleVectorIndex, Document, SimpleDirectoryReader\n",
    "import pandas as pd, numpy as np\n",
    "import os, openai\n",
    "from transformers import GPT2Tokenizer, GPT2LMHeadModel\n",
    "\n",
    "\n",
    "os.environ['OPENAI_API_KEY'] = ''\n",
    "openai.api_key = os.getenv(\"OPENAI_API_KEY\")"
   ]
  },
  {
   "cell_type": "code",
   "execution_count": 4,
   "metadata": {
    "colab": {
     "base_uri": "https://localhost:8080/",
     "height": 755
    },
    "id": "Pw3EV9LwnjM_",
    "outputId": "3c8dc707-9f6c-456c-e8f2-b17bee1a7df2"
   },
   "outputs": [
    {
     "data": {
      "text/html": [
       "<div>\n",
       "<style scoped>\n",
       "    .dataframe tbody tr th:only-of-type {\n",
       "        vertical-align: middle;\n",
       "    }\n",
       "\n",
       "    .dataframe tbody tr th {\n",
       "        vertical-align: top;\n",
       "    }\n",
       "\n",
       "    .dataframe thead th {\n",
       "        text-align: right;\n",
       "    }\n",
       "</style>\n",
       "<table border=\"1\" class=\"dataframe\">\n",
       "  <thead>\n",
       "    <tr style=\"text-align: right;\">\n",
       "      <th></th>\n",
       "      <th>_id</th>\n",
       "      <th>chapter</th>\n",
       "      <th>article</th>\n",
       "      <th>title</th>\n",
       "      <th>paragraphText</th>\n",
       "    </tr>\n",
       "  </thead>\n",
       "  <tbody>\n",
       "    <tr>\n",
       "      <th>2</th>\n",
       "      <td>{'$oid': '6417c99c2d49ca2fefed951e'}</td>\n",
       "      <td>Chapter 17.5. Lead and Copper</td>\n",
       "      <td>Article 8. Lead Service Line Requirements for ...</td>\n",
       "      <td>§ 64688. Lead Service Line Replacement.</td>\n",
       "      <td>(a) a system shall replace lead service lines ...</td>\n",
       "    </tr>\n",
       "    <tr>\n",
       "      <th>3</th>\n",
       "      <td>{'$oid': '6417c99c2d49ca2fefed951f'}</td>\n",
       "      <td>Chapter 17.5. Lead and Copper</td>\n",
       "      <td>Article 7. Public Education Program for Lead A...</td>\n",
       "      <td>§ 64687. Lead Public Education Program Content...</td>\n",
       "      <td>(a) each system with a lead action level excee...</td>\n",
       "    </tr>\n",
       "    <tr>\n",
       "      <th>4</th>\n",
       "      <td>{'$oid': '6417c99c2d49ca2fefed9520'}</td>\n",
       "      <td>Chapter 17.5. Lead and Copper</td>\n",
       "      <td>Article 8. Lead Service Line Requirements for ...</td>\n",
       "      <td>§ 64689. Lead Service Line Sampling.</td>\n",
       "      <td>(a) each lead service line sample shall be one...</td>\n",
       "    </tr>\n",
       "    <tr>\n",
       "      <th>5</th>\n",
       "      <td>{'$oid': '6417c99d2d49ca2fefed9521'}</td>\n",
       "      <td>Chapter 17.5. Lead and Copper</td>\n",
       "      <td>Article 6. Source Water Requirements for Actio...</td>\n",
       "      <td>§ 64686. Requirements Subsequent to the Depart...</td>\n",
       "      <td>(a) if the department determines that source w...</td>\n",
       "    </tr>\n",
       "    <tr>\n",
       "      <th>6</th>\n",
       "      <td>{'$oid': '6417c99e2d49ca2fefed9522'}</td>\n",
       "      <td>Chapter 15.5. Disinfectant Residuals, Disinfec...</td>\n",
       "      <td>Article 6. Reporting and Recordkeeping Require...</td>\n",
       "      <td>§ 64537.6. Disinfection Byproduct Precursors a...</td>\n",
       "      <td>(a) systems required to meet the enhanced coag...</td>\n",
       "    </tr>\n",
       "    <tr>\n",
       "      <th>...</th>\n",
       "      <td>...</td>\n",
       "      <td>...</td>\n",
       "      <td>...</td>\n",
       "      <td>...</td>\n",
       "      <td>...</td>\n",
       "    </tr>\n",
       "    <tr>\n",
       "      <th>759</th>\n",
       "      <td>{'$oid': '6417cac62d49ca2fefed9813'}</td>\n",
       "      <td>Chapter 17. Surface Water Treatment</td>\n",
       "      <td>Article 2. Treatment Technique Requirements, W...</td>\n",
       "      <td>§ 64653. Filtration.</td>\n",
       "      <td>(a) all approved surface water utilized by a s...</td>\n",
       "    </tr>\n",
       "    <tr>\n",
       "      <th>760</th>\n",
       "      <td>{'$oid': '6417cac62d49ca2fefed9814'}</td>\n",
       "      <td>Chapter 17. Surface Water Treatment</td>\n",
       "      <td>Article 2. Treatment Technique Requirements, W...</td>\n",
       "      <td>§ 64652. Treatment Technique Requirements and ...</td>\n",
       "      <td>(a) a supplier using an approved surface water...</td>\n",
       "    </tr>\n",
       "    <tr>\n",
       "      <th>761</th>\n",
       "      <td>{'$oid': '6417cac62d49ca2fefed9815'}</td>\n",
       "      <td>Chapter 17. Surface Water Treatment</td>\n",
       "      <td>Article 3. Monitoring Requirements</td>\n",
       "      <td>§ 64655. Filtration Monitoring.</td>\n",
       "      <td>(a) to determine compliance with the performan...</td>\n",
       "    </tr>\n",
       "    <tr>\n",
       "      <th>762</th>\n",
       "      <td>{'$oid': '6417cac72d49ca2fefed9816'}</td>\n",
       "      <td>Chapter 17. Surface Water Treatment</td>\n",
       "      <td>Article 3. Monitoring Requirements</td>\n",
       "      <td>§ 64654.8. Source, Raw, Settled, and Recycled ...</td>\n",
       "      <td>(a) a supplier shall comply with the source mo...</td>\n",
       "    </tr>\n",
       "    <tr>\n",
       "      <th>763</th>\n",
       "      <td>{'$oid': '6417cac72d49ca2fefed9817'}</td>\n",
       "      <td>Chapter 17. Surface Water Treatment</td>\n",
       "      <td>Article 2. Treatment Technique Requirements, W...</td>\n",
       "      <td>§ 64652.5. Criteria for Avoiding Filtration.</td>\n",
       "      <td>(a) a supplier that uses an approved surface w...</td>\n",
       "    </tr>\n",
       "  </tbody>\n",
       "</table>\n",
       "<p>562 rows × 5 columns</p>\n",
       "</div>"
      ],
      "text/plain": [
       "                                      _id  \\\n",
       "2    {'$oid': '6417c99c2d49ca2fefed951e'}   \n",
       "3    {'$oid': '6417c99c2d49ca2fefed951f'}   \n",
       "4    {'$oid': '6417c99c2d49ca2fefed9520'}   \n",
       "5    {'$oid': '6417c99d2d49ca2fefed9521'}   \n",
       "6    {'$oid': '6417c99e2d49ca2fefed9522'}   \n",
       "..                                    ...   \n",
       "759  {'$oid': '6417cac62d49ca2fefed9813'}   \n",
       "760  {'$oid': '6417cac62d49ca2fefed9814'}   \n",
       "761  {'$oid': '6417cac62d49ca2fefed9815'}   \n",
       "762  {'$oid': '6417cac72d49ca2fefed9816'}   \n",
       "763  {'$oid': '6417cac72d49ca2fefed9817'}   \n",
       "\n",
       "                                               chapter  \\\n",
       "2                        Chapter 17.5. Lead and Copper   \n",
       "3                        Chapter 17.5. Lead and Copper   \n",
       "4                        Chapter 17.5. Lead and Copper   \n",
       "5                        Chapter 17.5. Lead and Copper   \n",
       "6    Chapter 15.5. Disinfectant Residuals, Disinfec...   \n",
       "..                                                 ...   \n",
       "759                Chapter 17. Surface Water Treatment   \n",
       "760                Chapter 17. Surface Water Treatment   \n",
       "761                Chapter 17. Surface Water Treatment   \n",
       "762                Chapter 17. Surface Water Treatment   \n",
       "763                Chapter 17. Surface Water Treatment   \n",
       "\n",
       "                                               article  \\\n",
       "2    Article 8. Lead Service Line Requirements for ...   \n",
       "3    Article 7. Public Education Program for Lead A...   \n",
       "4    Article 8. Lead Service Line Requirements for ...   \n",
       "5    Article 6. Source Water Requirements for Actio...   \n",
       "6    Article 6. Reporting and Recordkeeping Require...   \n",
       "..                                                 ...   \n",
       "759  Article 2. Treatment Technique Requirements, W...   \n",
       "760  Article 2. Treatment Technique Requirements, W...   \n",
       "761                 Article 3. Monitoring Requirements   \n",
       "762                 Article 3. Monitoring Requirements   \n",
       "763  Article 2. Treatment Technique Requirements, W...   \n",
       "\n",
       "                                                 title  \\\n",
       "2              § 64688. Lead Service Line Replacement.   \n",
       "3    § 64687. Lead Public Education Program Content...   \n",
       "4                 § 64689. Lead Service Line Sampling.   \n",
       "5    § 64686. Requirements Subsequent to the Depart...   \n",
       "6    § 64537.6. Disinfection Byproduct Precursors a...   \n",
       "..                                                 ...   \n",
       "759                               § 64653. Filtration.   \n",
       "760  § 64652. Treatment Technique Requirements and ...   \n",
       "761                    § 64655. Filtration Monitoring.   \n",
       "762  § 64654.8. Source, Raw, Settled, and Recycled ...   \n",
       "763       § 64652.5. Criteria for Avoiding Filtration.   \n",
       "\n",
       "                                         paragraphText  \n",
       "2    (a) a system shall replace lead service lines ...  \n",
       "3    (a) each system with a lead action level excee...  \n",
       "4    (a) each lead service line sample shall be one...  \n",
       "5    (a) if the department determines that source w...  \n",
       "6    (a) systems required to meet the enhanced coag...  \n",
       "..                                                 ...  \n",
       "759  (a) all approved surface water utilized by a s...  \n",
       "760  (a) a supplier using an approved surface water...  \n",
       "761  (a) to determine compliance with the performan...  \n",
       "762  (a) a supplier shall comply with the source mo...  \n",
       "763  (a) a supplier that uses an approved surface w...  \n",
       "\n",
       "[562 rows x 5 columns]"
      ]
     },
     "execution_count": 4,
     "metadata": {},
     "output_type": "execute_result"
    }
   ],
   "source": [
    "df = pd.read_json(\"../data/regItems.json\")\n",
    "df = df.replace(to_replace=\"\", value=np.nan).dropna(axis=0) # remove null values\n",
    "df['paragraphText'] = df['paragraphText'].str.replace(\"OLD SECTION.*\", \"\", regex=True) # remove any dirty words\n",
    "df['paragraphText'] = df['paragraphText'].str.replace(\"[a-zA-z]\\d\\w+\", \". \", regex=True)\n",
    "df['paragraphText'] = df['paragraphText'].str.lower()\n",
    "df"
   ]
  },
  {
   "cell_type": "code",
   "execution_count": 5,
   "metadata": {
    "colab": {
     "base_uri": "https://localhost:8080/"
    },
    "id": "4BFih0OfttbN",
    "outputId": "1748b537-010d-4093-96bb-4fbac8f62588"
   },
   "outputs": [],
   "source": [
    "data = df['paragraphText'].tolist()\n",
    "# Prepare your data and convert it into a format that Llama Index can understand\n",
    "# This example assumes that your data is a list of strings\n",
    "formatted_data = [{'text': doc} for doc in data]"
   ]
  },
  {
   "attachments": {},
   "cell_type": "markdown",
   "metadata": {
    "id": "UMem8HMtbMHN"
   },
   "source": [
    "- https://github.com/jerryjliu/llama_index/blob/main/examples/test_wiki/TestNYC_Embeddings.ipynb\n",
    "- https://gpt-index.readthedocs.io/en/latest/how_to/custom_llms.html#example-using-a-custom-llm-model"
   ]
  },
  {
   "attachments": {},
   "cell_type": "markdown",
   "metadata": {
    "id": "c48s5MuqRQvu"
   },
   "source": [
    "#### LLM customization with LlamaIndex\n",
    "\n",
    "Note that we need to use the prompt helper to customize the prompt sizes, since every model has a slightly different context length.\n",
    "\n",
    "Note that you may have to adjust the internal prompts to get good performance. Even then, you should be using a sufficiently large LLM to ensure it’s capable of handling the complex queries that LlamaIndex uses internally, so your mileage may vary.\n",
    "\n",
    "A list of all default internal prompts is available here: \n",
    "- https://github.com/jerryjliu/llama_index/blob/main/gpt_index/prompts/default_prompts.py\n",
    "\n",
    "Chat-specific prompts are listed here: \n",
    "- https://github.com/jerryjliu/llama_index/blob/main/gpt_index/prompts/chat_prompts.py\n"
   ]
  },
  {
   "cell_type": "code",
   "execution_count": 9,
   "metadata": {
    "id": "q0BnWyKTAExC"
   },
   "outputs": [],
   "source": [
    "from langchain.llms.base import LLM\n",
    "from llama_index import LLMPredictor, GPTSimpleVectorIndex, Document, PromptHelper, ServiceContext, Document\n",
    "from transformers import pipeline, AutoTokenizer, AutoModelForCausalLM\n",
    "from IPython.display import Markdown\n",
    "from typing import Optional, List, Mapping, Any\n",
    "\n",
    "# define prompt helper\n",
    "# set maximum input size\n",
    "max_input_size = 2048\n",
    "# set number of output tokens\n",
    "num_output = 525\n",
    "# set maximum chunk overlap\n",
    "max_chunk_overlap = 20\n",
    "prompt_helper = PromptHelper(max_input_size, num_output, max_chunk_overlap)"
   ]
  },
  {
   "cell_type": "code",
   "execution_count": 10,
   "metadata": {
    "id": "iLgu2AszGy5E"
   },
   "outputs": [],
   "source": [
    "# 2. Load the BigScience Bloomz model and tokenizer\n",
    "model_name = \"bigscience/bloom-560m\" # \"bigscience/bloomz\"\n",
    "tokenizer = AutoTokenizer.from_pretrained(model_name)\n",
    "model = AutoModelForCausalLM.from_pretrained(model_name, config='T5Config')\n"
   ]
  },
  {
   "cell_type": "code",
   "execution_count": 11,
   "metadata": {
    "id": "GUpSV_StB1r5"
   },
   "outputs": [],
   "source": [
    "class CustomLLM(LLM):\n",
    "    # 3. Create the pipeline for question answering\n",
    "    pipeline = pipeline(\n",
    "        model=model,\n",
    "        tokenizer=tokenizer,\n",
    "        task=\"text-generation\",\n",
    "        # device=0, # GPU device number\n",
    "        max_length=512,\n",
    "        do_sample=True,\n",
    "        top_p=0.95,\n",
    "        top_k=50,\n",
    "        temperature=0.7\n",
    "    )\n",
    "\n",
    "    def _call(self, prompt: str, stop: Optional[List[str]] = None) -> str:\n",
    "        prompt_length = len(prompt)\n",
    "        response = self.pipeline(prompt, max_new_tokens=num_output)[0][\"generated_text\"]\n",
    "\n",
    "        # only return newly generated tokens\n",
    "        return response[prompt_length:]\n",
    "\n",
    "    @property\n",
    "    def _identifying_params(self) -> Mapping[str, Any]:\n",
    "        return {\"name_of_model\": self.model_name}\n",
    "\n",
    "    @property\n",
    "    def _llm_type(self) -> str:\n",
    "        return \"custom\""
   ]
  },
  {
   "cell_type": "code",
   "execution_count": 12,
   "metadata": {
    "id": "ZG7mhvWFB-6S"
   },
   "outputs": [],
   "source": [
    "#define our llm\n",
    "llm_predictor = LLMPredictor(llm=CustomLLM())\n",
    "service_context = ServiceContext.from_defaults(llm_predictor=llm_predictor, prompt_helper=prompt_helper)"
   ]
  },
  {
   "cell_type": "code",
   "execution_count": 13,
   "metadata": {
    "id": "psENaxPQQjeI"
   },
   "outputs": [
    {
     "name": "stderr",
     "output_type": "stream",
     "text": [
      "INFO:llama_index.token_counter.token_counter:> [build_index_from_nodes] Total LLM token usage: 0 tokens\n",
      "INFO:llama_index.token_counter.token_counter:> [build_index_from_nodes] Total embedding token usage: 198292 tokens\n"
     ]
    }
   ],
   "source": [
    "# 1. Load and index the dataset using Llama-index\n",
    "index_path = \"./index\"\n",
    "\n",
    "\n",
    "documents = [Document(d) for d in data]\n",
    "\n",
    "# index = GPTSimpleVectorIndex(documents, llm_predictor=llm_predictor, prompt_helper=prompt_helper)\n",
    "index = GPTSimpleVectorIndex.from_documents(documents, service_context=service_context)\n",
    "\n",
    "index.save_to_disk('index.json')"
   ]
  },
  {
   "cell_type": "code",
   "execution_count": 14,
   "metadata": {
    "id": "3Qz8Zb47QyBT"
   },
   "outputs": [],
   "source": [
    "new_index = GPTSimpleVectorIndex.load_from_disk('index.json')"
   ]
  },
  {
   "cell_type": "code",
   "execution_count": 15,
   "metadata": {
    "colab": {
     "base_uri": "https://localhost:8080/",
     "height": 59
    },
    "id": "maRzEkM3V9Zi",
    "outputId": "50c9891a-f65c-4b55-dd48-c05de0059fd7"
   },
   "outputs": [
    {
     "name": "stderr",
     "output_type": "stream",
     "text": [
      "INFO:llama_index.token_counter.token_counter:> [query] Total LLM token usage: 331 tokens\n",
      "INFO:llama_index.token_counter.token_counter:> [query] Total embedding token usage: 6 tokens\n"
     ]
    },
    {
     "data": {
      "text/markdown": [
       "<b>\n",
       "Cross-connection is a connection between a potable water system and a non-potable water system, such as a recycled water system, that could allow contaminated water to enter the potable water system.</b>"
      ],
      "text/plain": [
       "<IPython.core.display.Markdown object>"
      ]
     },
     "metadata": {},
     "output_type": "display_data"
    }
   ],
   "source": [
    "# set Logging to DEBUG for more detailed outputs\n",
    "response = new_index.query(\"what is cross-connection?\")\n",
    "display(Markdown(f\"<b>{response}</b>\"))"
   ]
  },
  {
   "attachments": {},
   "cell_type": "markdown",
   "metadata": {
    "id": "6ZJCgS8SMyLL"
   },
   "source": [
    "The bot response depends on the way we asked a question. See below for an example."
   ]
  },
  {
   "cell_type": "code",
   "execution_count": 16,
   "metadata": {
    "colab": {
     "base_uri": "https://localhost:8080/",
     "height": 59
    },
    "id": "SwDjUfJjMtG2",
    "outputId": "579f761a-d6f7-4621-f3b1-a8b39af483e3"
   },
   "outputs": [
    {
     "name": "stderr",
     "output_type": "stream",
     "text": [
      "INFO:llama_index.token_counter.token_counter:> [query] Total LLM token usage: 347 tokens\n",
      "INFO:llama_index.token_counter.token_counter:> [query] Total embedding token usage: 5 tokens\n"
     ]
    },
    {
     "data": {
      "text/markdown": [
       "<b>\n",
       "AWWA stands for the American Water Works Association. It is a professional organization that works to improve the quality and availability of drinking water.</b>"
      ],
      "text/plain": [
       "<IPython.core.display.Markdown object>"
      ]
     },
     "metadata": {},
     "output_type": "display_data"
    }
   ],
   "source": [
    "response = new_index.query(\"what is AWWA?\")\n",
    "display(Markdown(f\"<b>{response}</b>\"))"
   ]
  },
  {
   "cell_type": "code",
   "execution_count": 17,
   "metadata": {
    "colab": {
     "base_uri": "https://localhost:8080/",
     "height": 38
    },
    "id": "FxlYaaVjJzJf",
    "outputId": "8e11bc83-b798-41f3-c82e-689d2432ac20"
   },
   "outputs": [
    {
     "name": "stderr",
     "output_type": "stream",
     "text": [
      "INFO:llama_index.token_counter.token_counter:> [query] Total LLM token usage: 332 tokens\n",
      "INFO:llama_index.token_counter.token_counter:> [query] Total embedding token usage: 8 tokens\n"
     ]
    },
    {
     "data": {
      "text/markdown": [
       "<b>\n",
       "AWWA stands for American Water Works Association.</b>"
      ],
      "text/plain": [
       "<IPython.core.display.Markdown object>"
      ]
     },
     "metadata": {},
     "output_type": "display_data"
    }
   ],
   "source": [
    "response = new_index.query(\"what does AWWA abbreviation mean?\")\n",
    "display(Markdown(f\"<b>{response}</b>\"))"
   ]
  },
  {
   "cell_type": "code",
   "execution_count": 18,
   "metadata": {},
   "outputs": [
    {
     "name": "stderr",
     "output_type": "stream",
     "text": [
      "INFO:llama_index.token_counter.token_counter:> [query] Total LLM token usage: 333 tokens\n",
      "INFO:llama_index.token_counter.token_counter:> [query] Total embedding token usage: 9 tokens\n"
     ]
    },
    {
     "data": {
      "text/markdown": [
       "<b>\n",
       "AWWA stands for American Water Works Association.</b>"
      ],
      "text/plain": [
       "<IPython.core.display.Markdown object>"
      ]
     },
     "metadata": {},
     "output_type": "display_data"
    }
   ],
   "source": [
    "response = new_index.query(\"what does awwa abbreviation mean?\")\n",
    "display(Markdown(f\"<b>{response}</b>\"))"
   ]
  },
  {
   "cell_type": "code",
   "execution_count": null,
   "metadata": {
    "colab": {
     "base_uri": "https://localhost:8080/",
     "height": 38
    },
    "id": "2OsLB8nMKsl5",
    "outputId": "cd4380d5-80a5-491f-822b-e9d5c40988fe"
   },
   "outputs": [
    {
     "data": {
      "text/markdown": [
       "<b>\n",
       "The term \"State Board\" stands for the State Water Resources Control Board.</b>"
      ],
      "text/plain": [
       "<IPython.core.display.Markdown object>"
      ]
     },
     "metadata": {},
     "output_type": "display_data"
    }
   ],
   "source": [
    "response = new_index.query(\"what does the term State Board stands for?\")\n",
    "display(Markdown(f\"<b>{response}</b>\"))"
   ]
  },
  {
   "cell_type": "code",
   "execution_count": 19,
   "metadata": {
    "colab": {
     "base_uri": "https://localhost:8080/",
     "height": 246
    },
    "id": "Y77SA_qALbsA",
    "outputId": "6fe693e0-c944-4c24-87d9-775c1c4f0037"
   },
   "outputs": [
    {
     "name": "stderr",
     "output_type": "stream",
     "text": [
      "INFO:llama_index.token_counter.token_counter:> [query] Total LLM token usage: 350 tokens\n",
      "INFO:llama_index.token_counter.token_counter:> [query] Total embedding token usage: 16 tokens\n"
     ]
    },
    {
     "data": {
      "text/markdown": [
       "<b>\n",
       "1. The water system fails to meet the safety and quality standards set by the state board.\n",
       "2. The water system fails to comply with the regulations and requirements set by the state board.\n",
       "3. The water system fails to maintain the necessary infrastructure and equipment to provide safe and reliable service.\n",
       "4. The water system fails to provide adequate customer service.\n",
       "5. The water system fails to provide timely and accurate billing information.\n",
       "6. The water system fails to provide timely and accurate maintenance and repair services.\n",
       "7. The water system fails to provide timely and accurate water testing and monitoring services.\n",
       "8. The water system fails to provide timely and accurate reporting of water quality data.\n",
       "9. The water system fails to provide timely and accurate reporting of water usage data.\n",
       "10. The water system fails to provide timely and accurate reporting of water system operations.\n",
       "11. The water system fails to provide timely and accurate reporting of water system maintenance and repairs.\n",
       "12. The water system fails to provide timely and accurate reporting of water system upgrades and improvements.\n",
       "13. The water system fails to provide timely and accurate reporting of water system compliance with applicable laws and regulations.\n",
       "14. The water system fails to provide timely and accurate reporting of water</b>"
      ],
      "text/plain": [
       "<IPython.core.display.Markdown object>"
      ]
     },
     "metadata": {},
     "output_type": "display_data"
    }
   ],
   "source": [
    "response = new_index.query(\"Give me a list of conditions on which the water system be removed from service.\")\n",
    "display(Markdown(f\"<b>{response}</b>\"))"
   ]
  },
  {
   "cell_type": "code",
   "execution_count": 28,
   "metadata": {
    "colab": {
     "base_uri": "https://localhost:8080/",
     "height": 80
    },
    "id": "2HQXyfEDWMxC",
    "outputId": "298e8c3d-6eb3-44f9-c7cc-a7c8bf73c0da"
   },
   "outputs": [
    {
     "data": {
      "text/markdown": [
       "<b>\n",
       "Fecal coliforms are a type of bacteria that are found in the intestines of warm-blooded animals, including humans. They are used as an indicator of water contamination by sewage or animal waste. High levels of fecal coliforms in a water system can indicate that the water is contaminated with disease-causing organisms, such as E. coli, which can cause serious illnesses.</b>"
      ],
      "text/plain": [
       "<IPython.core.display.Markdown object>"
      ]
     },
     "metadata": {},
     "output_type": "display_data"
    }
   ],
   "source": [
    "response = new_index.query(\"I am not sure what the fecal coliform level is and can you explain what that is and how it can affect water system?\")\n",
    "display(Markdown(f\"<b>{response}</b>\"))"
   ]
  },
  {
   "cell_type": "code",
   "execution_count": 27,
   "metadata": {
    "colab": {
     "base_uri": "https://localhost:8080/",
     "height": 100
    },
    "id": "mYIu7WUvXorS",
    "outputId": "8f2fe503-0acd-4c3a-c2b4-a03f9ae983eb"
   },
   "outputs": [
    {
     "data": {
      "text/markdown": [
       "<b>\n",
       "An applicant should have passed a Grade T1 operator examination within the three years prior to submitting the application for certification. They should also have completed at least one year of operator experience working as a certified T2 operator for a T2 facility or higher, or a facility that, prior to January 1, 2001, would have met the criteria for classification as a T2 facility or higher pursuant to Section 64413.1.</b>"
      ],
      "text/plain": [
       "<IPython.core.display.Markdown object>"
      ]
     },
     "metadata": {},
     "output_type": "display_data"
    }
   ],
   "source": [
    "response = new_index.query(\"What are some requirements an applicant should have before taking the T2 operator exam?\")\n",
    "display(Markdown(f\"<b>{response}</b>\"))"
   ]
  },
  {
   "cell_type": "code",
   "execution_count": 30,
   "metadata": {
    "colab": {
     "base_uri": "https://localhost:8080/",
     "height": 59
    },
    "id": "DEIfE3HXWEWO",
    "outputId": "dbbd10f8-552b-4a9f-d175-0303de4a74d4"
   },
   "outputs": [
    {
     "data": {
      "text/markdown": [
       "<b>\n",
       "A water user is any individual or entity that uses water from a water system for human consumption. This includes residential customers, businesses, and other organizations.</b>"
      ],
      "text/plain": [
       "<IPython.core.display.Markdown object>"
      ]
     },
     "metadata": {},
     "output_type": "display_data"
    }
   ],
   "source": [
    "response = new_index.query(\"who is water user?\")\n",
    "display(Markdown(f\"<b>{response}</b>\"))"
   ]
  },
  {
   "cell_type": "code",
   "execution_count": 20,
   "metadata": {
    "id": "zM-G6bYLWLof"
   },
   "outputs": [
    {
     "name": "stderr",
     "output_type": "stream",
     "text": [
      "INFO:llama_index.token_counter.token_counter:> [query] Total LLM token usage: 276 tokens\n",
      "INFO:llama_index.token_counter.token_counter:> [query] Total embedding token usage: 14 tokens\n"
     ]
    },
    {
     "data": {
      "text/markdown": [
       "<b>\n",
       "A water treatment facility is a system of structures, equipment, and processes that are used to treat or condition a water supply. This treatment affects the physical, chemical, and bacteriological quality of the water, making it safe for public use. The facility may include processes such as filtration, sedimentation, disinfection, and other methods to remove contaminants and make the water safe for consumption. The facility may also include processes to adjust the pH, hardness, and other characteristics of the water. Facilities that only disinfect the water and do not require Giardia or virus reduction are not considered water treatment facilities.</b>"
      ],
      "text/plain": [
       "<IPython.core.display.Markdown object>"
      ]
     },
     "metadata": {},
     "output_type": "display_data"
    }
   ],
   "source": [
    "response = new_index.query(\"can you explain what the water treatment facility and what functions it serves?\")\n",
    "display(Markdown(f\"<b>{response}</b>\"))"
   ]
  },
  {
   "cell_type": "code",
   "execution_count": 22,
   "metadata": {},
   "outputs": [
    {
     "name": "stderr",
     "output_type": "stream",
     "text": [
      "INFO:llama_index.token_counter.token_counter:> [query] Total LLM token usage: 221 tokens\n",
      "INFO:llama_index.token_counter.token_counter:> [query] Total embedding token usage: 11 tokens\n"
     ]
    },
    {
     "data": {
      "text/markdown": [
       "<b>\n",
       "A water treatment facility is a group of structures, equipment, and processes that are used to improve the physical, chemical, or bacteriological quality of water that is distributed or offered to the public for domestic use by a public water system. Facilities that only disinfect water and are under the control of a certified distribution operator are not included as water treatment facilities.</b>"
      ],
      "text/plain": [
       "<IPython.core.display.Markdown object>"
      ]
     },
     "metadata": {},
     "output_type": "display_data"
    }
   ],
   "source": [
    "response = new_index.query(\"what is the exact meaning of the water treatment facility?\")\n",
    "display(Markdown(f\"<b>{response}</b>\"))"
   ]
  },
  {
   "cell_type": "code",
   "execution_count": 23,
   "metadata": {},
   "outputs": [
    {
     "name": "stderr",
     "output_type": "stream",
     "text": [
      "INFO:llama_index.token_counter.token_counter:> [query] Total LLM token usage: 98 tokens\n",
      "INFO:llama_index.token_counter.token_counter:> [query] Total embedding token usage: 7 tokens\n"
     ]
    },
    {
     "data": {
      "text/markdown": [
       "<b>\n",
       "DLR stands for \"Detection Limit for Reporting\".</b>"
      ],
      "text/plain": [
       "<IPython.core.display.Markdown object>"
      ]
     },
     "metadata": {},
     "output_type": "display_data"
    }
   ],
   "source": [
    "response = new_index.query(\"What does DLR stand for?\")\n",
    "display(Markdown(f\"<b>{response}</b>\"))"
   ]
  },
  {
   "cell_type": "code",
   "execution_count": 24,
   "metadata": {},
   "outputs": [
    {
     "name": "stderr",
     "output_type": "stream",
     "text": [
      "INFO:llama_index.token_counter.token_counter:> [query] Total LLM token usage: 123 tokens\n",
      "INFO:llama_index.token_counter.token_counter:> [query] Total embedding token usage: 5 tokens\n"
     ]
    },
    {
     "data": {
      "text/markdown": [
       "<b>\n",
       "DLR stands for \"Detection Limit for Reporting\" and is the designated minimum level at or above which any analytical finding of a contaminant in drinking water must be reported to the department.</b>"
      ],
      "text/plain": [
       "<IPython.core.display.Markdown object>"
      ]
     },
     "metadata": {},
     "output_type": "display_data"
    }
   ],
   "source": [
    "response = new_index.query(\"What is DLR?\")\n",
    "display(Markdown(f\"<b>{response}</b>\"))"
   ]
  },
  {
   "cell_type": "code",
   "execution_count": 25,
   "metadata": {},
   "outputs": [
    {
     "name": "stderr",
     "output_type": "stream",
     "text": [
      "INFO:llama_index.token_counter.token_counter:> [query] Total LLM token usage: 121 tokens\n",
      "INFO:llama_index.token_counter.token_counter:> [query] Total embedding token usage: 7 tokens\n"
     ]
    },
    {
     "data": {
      "text/markdown": [
       "<b>\n",
       "A level 1 assessment is an evaluation to determine if there are any sanitary defects, defects in the distribution system coliform monitoring practices, and (when possible) the cause of the system triggering the assessment.</b>"
      ],
      "text/plain": [
       "<IPython.core.display.Markdown object>"
      ]
     },
     "metadata": {},
     "output_type": "display_data"
    }
   ],
   "source": [
    "response = new_index.query(\"What is a level 1 assessment?\")\n",
    "display(Markdown(f\"<b>{response}</b>\"))"
   ]
  },
  {
   "cell_type": "code",
   "execution_count": 26,
   "metadata": {},
   "outputs": [
    {
     "name": "stderr",
     "output_type": "stream",
     "text": [
      "INFO:llama_index.token_counter.token_counter:> [query] Total LLM token usage: 207 tokens\n",
      "INFO:llama_index.token_counter.token_counter:> [query] Total embedding token usage: 7 tokens\n"
     ]
    },
    {
     "data": {
      "text/markdown": [
       "<b>\n",
       "A level 2 assessment is an evaluation that provides a more detailed examination of a system than a level 1 assessment. It involves a comprehensive investigation and review of available information, additional internal and external resources, and other relevant practices to identify the possible presence of sanitary defects, defects in distribution system coliform monitoring practices, and (when possible) the likely reason that the system triggered the assessment.</b>"
      ],
      "text/plain": [
       "<IPython.core.display.Markdown object>"
      ]
     },
     "metadata": {},
     "output_type": "display_data"
    }
   ],
   "source": [
    "response = new_index.query(\"What is a level 2 assessment?\")\n",
    "display(Markdown(f\"<b>{response}</b>\"))"
   ]
  },
  {
   "cell_type": "code",
   "execution_count": 27,
   "metadata": {},
   "outputs": [
    {
     "name": "stderr",
     "output_type": "stream",
     "text": [
      "INFO:llama_index.token_counter.token_counter:> [query] Total LLM token usage: 220 tokens\n",
      "INFO:llama_index.token_counter.token_counter:> [query] Total embedding token usage: 12 tokens\n"
     ]
    },
    {
     "data": {
      "text/markdown": [
       "<b>\n",
       "The difference between a level 1 and 2 assessment is that a level 2 assessment provides a more detailed examination of the system than a level 1 assessment. This includes a more comprehensive investigation and review of available information, additional internal and external resources, and other relevant practices to identify the possible presence of sanitary defects, defects in distribution system coliform monitoring practices, and (when possible) the likely reason that the system triggered the assessment.</b>"
      ],
      "text/plain": [
       "<IPython.core.display.Markdown object>"
      ]
     },
     "metadata": {},
     "output_type": "display_data"
    }
   ],
   "source": [
    "response = new_index.query(\"What is the difference between a level 1 and 2 assessments?\")\n",
    "display(Markdown(f\"<b>{response}</b>\"))"
   ]
  }
 ],
 "metadata": {
  "colab": {
   "provenance": []
  },
  "kernelspec": {
   "display_name": "default:Python",
   "language": "python",
   "name": "conda-env-default-py"
  },
  "language_info": {
   "codemirror_mode": {
    "name": "ipython",
    "version": 3
   },
   "file_extension": ".py",
   "mimetype": "text/x-python",
   "name": "python",
   "nbconvert_exporter": "python",
   "pygments_lexer": "ipython3",
   "version": "3.9.13"
  }
 },
 "nbformat": 4,
 "nbformat_minor": 4
}
