{
 "cells": [
  {
   "attachments": {},
   "cell_type": "markdown",
   "id": "c5ba449a",
   "metadata": {},
   "source": [
    "## Run \"Question Answering Using LangChain\" file first"
   ]
  },
  {
   "cell_type": "code",
   "execution_count": 7,
   "id": "57527d93",
   "metadata": {},
   "outputs": [
    {
     "name": "stdout",
     "output_type": "stream",
     "text": [
      "Requirement already satisfied: langchain in /opt/anaconda3/lib/python3.9/site-packages (0.0.117)\n",
      "Requirement already satisfied: dataclasses-json<0.6.0,>=0.5.7 in /opt/anaconda3/lib/python3.9/site-packages (from langchain) (0.5.7)\n",
      "Requirement already satisfied: aiohttp<4.0.0,>=3.8.3 in /opt/anaconda3/lib/python3.9/site-packages (from langchain) (3.8.4)\n",
      "Requirement already satisfied: pydantic<2,>=1 in /opt/anaconda3/lib/python3.9/site-packages (from langchain) (1.10.6)\n",
      "Requirement already satisfied: tenacity<9.0.0,>=8.1.0 in /opt/anaconda3/lib/python3.9/site-packages (from langchain) (8.2.2)\n",
      "Requirement already satisfied: SQLAlchemy<2,>=1 in /opt/anaconda3/lib/python3.9/site-packages (from langchain) (1.4.22)\n",
      "Requirement already satisfied: numpy<2,>=1 in /opt/anaconda3/lib/python3.9/site-packages (from langchain) (1.22.4)\n",
      "Requirement already satisfied: requests<3,>=2 in /opt/anaconda3/lib/python3.9/site-packages (from langchain) (2.28.2)\n",
      "Requirement already satisfied: PyYAML>=5.4.1 in /opt/anaconda3/lib/python3.9/site-packages (from langchain) (5.4.1)\n",
      "Requirement already satisfied: multidict<7.0,>=4.5 in /opt/anaconda3/lib/python3.9/site-packages (from aiohttp<4.0.0,>=3.8.3->langchain) (6.0.4)\n",
      "Requirement already satisfied: charset-normalizer<4.0,>=2.0 in /opt/anaconda3/lib/python3.9/site-packages (from aiohttp<4.0.0,>=3.8.3->langchain) (2.0.4)\n",
      "Requirement already satisfied: async-timeout<5.0,>=4.0.0a3 in /opt/anaconda3/lib/python3.9/site-packages (from aiohttp<4.0.0,>=3.8.3->langchain) (4.0.2)\n",
      "Requirement already satisfied: yarl<2.0,>=1.0 in /opt/anaconda3/lib/python3.9/site-packages (from aiohttp<4.0.0,>=3.8.3->langchain) (1.8.2)\n",
      "Requirement already satisfied: frozenlist>=1.1.1 in /opt/anaconda3/lib/python3.9/site-packages (from aiohttp<4.0.0,>=3.8.3->langchain) (1.3.3)\n",
      "Requirement already satisfied: attrs>=17.3.0 in /opt/anaconda3/lib/python3.9/site-packages (from aiohttp<4.0.0,>=3.8.3->langchain) (21.2.0)\n",
      "Requirement already satisfied: aiosignal>=1.1.2 in /opt/anaconda3/lib/python3.9/site-packages (from aiohttp<4.0.0,>=3.8.3->langchain) (1.3.1)\n",
      "Requirement already satisfied: typing-inspect>=0.4.0 in /opt/anaconda3/lib/python3.9/site-packages (from dataclasses-json<0.6.0,>=0.5.7->langchain) (0.8.0)\n",
      "Requirement already satisfied: marshmallow<4.0.0,>=3.3.0 in /opt/anaconda3/lib/python3.9/site-packages (from dataclasses-json<0.6.0,>=0.5.7->langchain) (3.19.0)\n",
      "Requirement already satisfied: marshmallow-enum<2.0.0,>=1.5.1 in /opt/anaconda3/lib/python3.9/site-packages (from dataclasses-json<0.6.0,>=0.5.7->langchain) (1.5.1)\n",
      "Requirement already satisfied: typing-extensions>=4.2.0 in /opt/anaconda3/lib/python3.9/site-packages (from pydantic<2,>=1->langchain) (4.5.0)\n",
      "Requirement already satisfied: idna<4,>=2.5 in /opt/anaconda3/lib/python3.9/site-packages (from requests<3,>=2->langchain) (2.10)\n",
      "Requirement already satisfied: urllib3<1.27,>=1.21.1 in /opt/anaconda3/lib/python3.9/site-packages (from requests<3,>=2->langchain) (1.26.15)\n",
      "Requirement already satisfied: certifi>=2017.4.17 in /opt/anaconda3/lib/python3.9/site-packages (from requests<3,>=2->langchain) (2022.12.7)\n",
      "Requirement already satisfied: greenlet!=0.4.17 in /opt/anaconda3/lib/python3.9/site-packages (from SQLAlchemy<2,>=1->langchain) (1.1.1)\n",
      "Requirement already satisfied: packaging>=17.0 in /opt/anaconda3/lib/python3.9/site-packages (from marshmallow<4.0.0,>=3.3.0->dataclasses-json<0.6.0,>=0.5.7->langchain) (21.0)\n",
      "Requirement already satisfied: mypy-extensions>=0.3.0 in /opt/anaconda3/lib/python3.9/site-packages (from typing-inspect>=0.4.0->dataclasses-json<0.6.0,>=0.5.7->langchain) (0.4.3)\n",
      "Requirement already satisfied: pyparsing>=2.0.2 in /opt/anaconda3/lib/python3.9/site-packages (from packaging>=17.0->marshmallow<4.0.0,>=3.3.0->dataclasses-json<0.6.0,>=0.5.7->langchain) (3.0.4)\n",
      "Requirement already satisfied: chromadb in /opt/anaconda3/lib/python3.9/site-packages (0.3.11)\n",
      "Requirement already satisfied: hnswlib>=0.7 in /opt/anaconda3/lib/python3.9/site-packages (from chromadb) (0.7.0)\n",
      "Requirement already satisfied: requests>=2.28 in /opt/anaconda3/lib/python3.9/site-packages (from chromadb) (2.28.2)\n",
      "Requirement already satisfied: clickhouse-connect>=0.5.7 in /opt/anaconda3/lib/python3.9/site-packages (from chromadb) (0.5.16)\n",
      "Requirement already satisfied: pydantic>=1.9 in /opt/anaconda3/lib/python3.9/site-packages (from chromadb) (1.10.6)\n",
      "Requirement already satisfied: sentence-transformers>=2.2.2 in /opt/anaconda3/lib/python3.9/site-packages (from chromadb) (2.2.2)\n",
      "Requirement already satisfied: fastapi>=0.85.1 in /opt/anaconda3/lib/python3.9/site-packages (from chromadb) (0.95.0)\n",
      "Requirement already satisfied: uvicorn[standard]>=0.18.3 in /opt/anaconda3/lib/python3.9/site-packages (from chromadb) (0.21.1)\n",
      "Requirement already satisfied: duckdb>=0.5.1 in /opt/anaconda3/lib/python3.9/site-packages (from chromadb) (0.7.1)\n",
      "Requirement already satisfied: numpy>=1.21.6 in /opt/anaconda3/lib/python3.9/site-packages (from chromadb) (1.22.4)\n",
      "Requirement already satisfied: pandas>=1.3 in /opt/anaconda3/lib/python3.9/site-packages (from chromadb) (1.3.4)\n",
      "Requirement already satisfied: urllib3>=1.26 in /opt/anaconda3/lib/python3.9/site-packages (from clickhouse-connect>=0.5.7->chromadb) (1.26.15)\n",
      "Requirement already satisfied: zstandard in /opt/anaconda3/lib/python3.9/site-packages (from clickhouse-connect>=0.5.7->chromadb) (0.20.0)\n",
      "Requirement already satisfied: certifi in /opt/anaconda3/lib/python3.9/site-packages (from clickhouse-connect>=0.5.7->chromadb) (2022.12.7)\n",
      "Requirement already satisfied: lz4 in /opt/anaconda3/lib/python3.9/site-packages (from clickhouse-connect>=0.5.7->chromadb) (4.3.2)\n",
      "Requirement already satisfied: pytz in /opt/anaconda3/lib/python3.9/site-packages (from clickhouse-connect>=0.5.7->chromadb) (2021.3)\n",
      "Requirement already satisfied: starlette<0.27.0,>=0.26.1 in /opt/anaconda3/lib/python3.9/site-packages (from fastapi>=0.85.1->chromadb) (0.26.1)\n",
      "Requirement already satisfied: python-dateutil>=2.7.3 in /opt/anaconda3/lib/python3.9/site-packages (from pandas>=1.3->chromadb) (2.8.2)\n",
      "Requirement already satisfied: typing-extensions>=4.2.0 in /opt/anaconda3/lib/python3.9/site-packages (from pydantic>=1.9->chromadb) (4.5.0)\n",
      "Requirement already satisfied: idna<4,>=2.5 in /opt/anaconda3/lib/python3.9/site-packages (from requests>=2.28->chromadb) (2.10)\n",
      "Requirement already satisfied: charset-normalizer<4,>=2 in /opt/anaconda3/lib/python3.9/site-packages (from requests>=2.28->chromadb) (2.0.4)\n",
      "Requirement already satisfied: sentencepiece in /opt/anaconda3/lib/python3.9/site-packages (from sentence-transformers>=2.2.2->chromadb) (0.1.97)\n",
      "Requirement already satisfied: scikit-learn in /opt/anaconda3/lib/python3.9/site-packages (from sentence-transformers>=2.2.2->chromadb) (0.24.2)\n",
      "Requirement already satisfied: torch>=1.6.0 in /opt/anaconda3/lib/python3.9/site-packages (from sentence-transformers>=2.2.2->chromadb) (2.0.0)\n",
      "Requirement already satisfied: nltk in /opt/anaconda3/lib/python3.9/site-packages (from sentence-transformers>=2.2.2->chromadb) (3.6.5)\n",
      "Requirement already satisfied: scipy in /opt/anaconda3/lib/python3.9/site-packages (from sentence-transformers>=2.2.2->chromadb) (1.7.1)\n",
      "Requirement already satisfied: tqdm in /opt/anaconda3/lib/python3.9/site-packages (from sentence-transformers>=2.2.2->chromadb) (4.64.1)\n",
      "Requirement already satisfied: torchvision in /opt/anaconda3/lib/python3.9/site-packages (from sentence-transformers>=2.2.2->chromadb) (0.15.1)\n",
      "Requirement already satisfied: huggingface-hub>=0.4.0 in /opt/anaconda3/lib/python3.9/site-packages (from sentence-transformers>=2.2.2->chromadb) (0.12.0)\n",
      "Requirement already satisfied: transformers<5.0.0,>=4.6.0 in /opt/anaconda3/lib/python3.9/site-packages (from sentence-transformers>=2.2.2->chromadb) (4.27.2)\n",
      "Requirement already satisfied: h11>=0.8 in /opt/anaconda3/lib/python3.9/site-packages (from uvicorn[standard]>=0.18.3->chromadb) (0.13.0)\n",
      "Requirement already satisfied: click>=7.0 in /opt/anaconda3/lib/python3.9/site-packages (from uvicorn[standard]>=0.18.3->chromadb) (8.0.3)\n",
      "Requirement already satisfied: python-dotenv>=0.13 in /opt/anaconda3/lib/python3.9/site-packages (from uvicorn[standard]>=0.18.3->chromadb) (1.0.0)\n",
      "Requirement already satisfied: uvloop!=0.15.0,!=0.15.1,>=0.14.0 in /opt/anaconda3/lib/python3.9/site-packages (from uvicorn[standard]>=0.18.3->chromadb) (0.17.0)\n",
      "Requirement already satisfied: pyyaml>=5.1 in /opt/anaconda3/lib/python3.9/site-packages (from uvicorn[standard]>=0.18.3->chromadb) (5.4.1)\n",
      "Requirement already satisfied: watchfiles>=0.13 in /opt/anaconda3/lib/python3.9/site-packages (from uvicorn[standard]>=0.18.3->chromadb) (0.18.1)\n",
      "Requirement already satisfied: httptools>=0.5.0 in /opt/anaconda3/lib/python3.9/site-packages (from uvicorn[standard]>=0.18.3->chromadb) (0.5.0)\n",
      "Requirement already satisfied: websockets>=10.4 in /opt/anaconda3/lib/python3.9/site-packages (from uvicorn[standard]>=0.18.3->chromadb) (10.4)\n"
     ]
    },
    {
     "name": "stdout",
     "output_type": "stream",
     "text": [
      "Requirement already satisfied: filelock in /opt/anaconda3/lib/python3.9/site-packages (from huggingface-hub>=0.4.0->sentence-transformers>=2.2.2->chromadb) (3.10.0)\n",
      "Requirement already satisfied: packaging>=20.9 in /opt/anaconda3/lib/python3.9/site-packages (from huggingface-hub>=0.4.0->sentence-transformers>=2.2.2->chromadb) (21.0)\n",
      "Requirement already satisfied: six>=1.5 in /opt/anaconda3/lib/python3.9/site-packages (from python-dateutil>=2.7.3->pandas>=1.3->chromadb) (1.16.0)\n",
      "Requirement already satisfied: anyio<5,>=3.4.0 in /opt/anaconda3/lib/python3.9/site-packages (from starlette<0.27.0,>=0.26.1->fastapi>=0.85.1->chromadb) (3.6.2)\n",
      "Requirement already satisfied: jinja2 in /opt/anaconda3/lib/python3.9/site-packages (from torch>=1.6.0->sentence-transformers>=2.2.2->chromadb) (3.1.2)\n",
      "Requirement already satisfied: sympy in /opt/anaconda3/lib/python3.9/site-packages (from torch>=1.6.0->sentence-transformers>=2.2.2->chromadb) (1.9)\n",
      "Requirement already satisfied: networkx in /opt/anaconda3/lib/python3.9/site-packages (from torch>=1.6.0->sentence-transformers>=2.2.2->chromadb) (2.6.3)\n",
      "Requirement already satisfied: tokenizers!=0.11.3,<0.14,>=0.11.1 in /opt/anaconda3/lib/python3.9/site-packages (from transformers<5.0.0,>=4.6.0->sentence-transformers>=2.2.2->chromadb) (0.13.2)\n",
      "Requirement already satisfied: regex!=2019.12.17 in /opt/anaconda3/lib/python3.9/site-packages (from transformers<5.0.0,>=4.6.0->sentence-transformers>=2.2.2->chromadb) (2022.10.31)\n",
      "Requirement already satisfied: joblib in /opt/anaconda3/lib/python3.9/site-packages (from nltk->sentence-transformers>=2.2.2->chromadb) (1.1.0)\n",
      "Requirement already satisfied: threadpoolctl>=2.0.0 in /opt/anaconda3/lib/python3.9/site-packages (from scikit-learn->sentence-transformers>=2.2.2->chromadb) (2.2.0)\n",
      "Requirement already satisfied: pillow!=8.3.*,>=5.3.0 in /opt/anaconda3/lib/python3.9/site-packages (from torchvision->sentence-transformers>=2.2.2->chromadb) (8.4.0)\n",
      "Requirement already satisfied: sniffio>=1.1 in /opt/anaconda3/lib/python3.9/site-packages (from anyio<5,>=3.4.0->starlette<0.27.0,>=0.26.1->fastapi>=0.85.1->chromadb) (1.2.0)\n",
      "Requirement already satisfied: pyparsing>=2.0.2 in /opt/anaconda3/lib/python3.9/site-packages (from packaging>=20.9->huggingface-hub>=0.4.0->sentence-transformers>=2.2.2->chromadb) (3.0.4)\n",
      "Requirement already satisfied: MarkupSafe>=2.0 in /opt/anaconda3/lib/python3.9/site-packages (from jinja2->torch>=1.6.0->sentence-transformers>=2.2.2->chromadb) (2.1.2)\n",
      "Requirement already satisfied: mpmath>=0.19 in /opt/anaconda3/lib/python3.9/site-packages (from sympy->torch>=1.6.0->sentence-transformers>=2.2.2->chromadb) (1.2.1)\n"
     ]
    }
   ],
   "source": [
    "!pip install langchain\n",
    "!pip install chromadb\n",
    "\n",
    "from langchain.chains import VectorDBQA\n",
    "from langchain.llms import OpenAI\n",
    "from langchain.indexes import VectorstoreIndexCreator\n",
    "from langchain import FAISS\n",
    "from langchain.chains import LLMChain\n",
    "from langchain.docstore.document import Document\n",
    "import requests\n",
    "from langchain.embeddings.openai import OpenAIEmbeddings\n",
    "from langchain.vectorstores import Chroma\n",
    "from langchain.text_splitter import CharacterTextSplitter\n",
    "from langchain.prompts import PromptTemplate\n",
    "import pathlib\n",
    "import subprocess\n",
    "import tempfile\n",
    "\n",
    "import os\n",
    "os.environ['OPENAI_API_KEY'] = \"\" # your key here"
   ]
  },
  {
   "cell_type": "code",
   "execution_count": 8,
   "id": "68ad4883",
   "metadata": {},
   "outputs": [],
   "source": [
    "embedding_function = OpenAIEmbeddings()\n",
    "faiss = FAISS.load_local(\"./\", embedding_function)"
   ]
  },
  {
   "cell_type": "code",
   "execution_count": 9,
   "id": "4fa05839",
   "metadata": {},
   "outputs": [],
   "source": [
    "from langchain.llms import OpenAI\n",
    "from langchain.docstore.document import Document\n",
    "import requests\n",
    "from langchain.embeddings.openai import OpenAIEmbeddings\n",
    "from langchain.vectorstores import Chroma\n",
    "from langchain.text_splitter import CharacterTextSplitter\n",
    "from langchain.prompts import PromptTemplate\n",
    "import pathlib\n",
    "import subprocess\n",
    "import tempfile\n",
    "\n",
    "prompt_template = \"\"\"Answer the question using the given context to the best of your ability. \n",
    "If you don't know, answer I don't know.\n",
    "Context: {context}\n",
    "Topic: {topic}\"\"\"\n",
    "\n",
    "PROMPT = PromptTemplate(\n",
    "    template=prompt_template, input_variables=[\"context\", \"topic\"]\n",
    ")\n",
    "\n",
    "llm = OpenAI(temperature=0)\n",
    "\n",
    "chain = LLMChain(llm=llm, prompt=PROMPT)"
   ]
  },
  {
   "cell_type": "code",
   "execution_count": 10,
   "id": "ce804279",
   "metadata": {},
   "outputs": [],
   "source": [
    "def answer_question(topic):\n",
    "    docs = faiss.similarity_search(topic, k=4)\n",
    "    inputs = [{\"context\": doc.page_content, \"topic\": topic} for doc in docs]\n",
    "    print(chain.apply(inputs)[0]['text'])"
   ]
  },
  {
   "cell_type": "code",
   "execution_count": 11,
   "id": "0800bb77",
   "metadata": {},
   "outputs": [
    {
     "name": "stdout",
     "output_type": "stream",
     "text": [
      "\n",
      "\n",
      "An existing public water system should develop and submit a Source Water Protection Plan to the State Board. This plan should include an assessment of the system's sources of water, an inventory of potential sources of contamination, and a plan for protecting the system's sources of water from contamination.\n"
     ]
    }
   ],
   "source": [
    "answer_question(\"What should an existing public water system develop and submit to the State Board?\")"
   ]
  },
  {
   "cell_type": "code",
   "execution_count": 12,
   "id": "5f52c00d",
   "metadata": {},
   "outputs": [
    {
     "name": "stderr",
     "output_type": "stream",
     "text": [
      "Retrying langchain.embeddings.openai.embed_with_retry.<locals>._completion_with_retry in 4.0 seconds as it raised Timeout: Request timed out: HTTPSConnectionPool(host='api.openai.com', port=443): Read timed out. (read timeout=600).\n"
     ]
    },
    {
     "name": "stdout",
     "output_type": "stream",
     "text": [
      "\n",
      "\n",
      "AWWA stands for the American Water Works Association, a nonprofit scientific and educational organization dedicated to the improvement of drinking water quality and supply.\n"
     ]
    }
   ],
   "source": [
    "answer_question(\"what is AWWA?\")"
   ]
  },
  {
   "cell_type": "code",
   "execution_count": 13,
   "id": "38212f96",
   "metadata": {},
   "outputs": [
    {
     "name": "stdout",
     "output_type": "stream",
     "text": [
      "\n",
      "\n",
      "The term State Board stands for a board or commission that is responsible for overseeing the activities of a particular state government.\n"
     ]
    }
   ],
   "source": [
    "answer_question(\"what does the term State Board stands for?\")"
   ]
  },
  {
   "cell_type": "code",
   "execution_count": 14,
   "id": "6c5827d3",
   "metadata": {},
   "outputs": [
    {
     "name": "stdout",
     "output_type": "stream",
     "text": [
      "\n",
      "\n",
      "1. If the water system is not functioning properly.\n",
      "2. If the water system is not meeting safety standards.\n",
      "3. If the water system is not providing adequate water pressure.\n",
      "4. If the water system is not providing clean, safe drinking water.\n",
      "5. If the water system is not providing enough water for the intended purpose.\n",
      "6. If the water system is not cost-effective.\n",
      "7. If the water system is not meeting environmental regulations.\n",
      "8. If the water system is not meeting local or state regulations.\n",
      "9. If the water system is not being maintained properly.\n",
      "10. If the water system is not being monitored regularly.\n"
     ]
    }
   ],
   "source": [
    "answer_question(\"Give me a list of conditions on which the water system be removed from service.\")"
   ]
  },
  {
   "cell_type": "code",
   "execution_count": 15,
   "id": "9456c174",
   "metadata": {},
   "outputs": [
    {
     "name": "stdout",
     "output_type": "stream",
     "text": [
      "\n",
      "\n",
      "Fecal coliform is a type of bacteria found in the intestines of warm-blooded animals, including humans. It is used as an indicator of water contamination, as its presence in water indicates the potential presence of other harmful bacteria. High levels of fecal coliform in a water system can lead to waterborne illnesses, such as diarrhea, vomiting, and fever.\n"
     ]
    }
   ],
   "source": [
    "answer_question(\"I am not sure what the fecal coliform level is and can you explain what that is and how it can affect water system?\")"
   ]
  },
  {
   "cell_type": "code",
   "execution_count": null,
   "id": "d9bf0e84",
   "metadata": {},
   "outputs": [],
   "source": []
  }
 ],
 "metadata": {
  "kernelspec": {
   "display_name": "Python 3 (ipykernel)",
   "language": "python",
   "name": "python3"
  },
  "language_info": {
   "codemirror_mode": {
    "name": "ipython",
    "version": 3
   },
   "file_extension": ".py",
   "mimetype": "text/x-python",
   "name": "python",
   "nbconvert_exporter": "python",
   "pygments_lexer": "ipython3",
   "version": "3.9.7"
  }
 },
 "nbformat": 4,
 "nbformat_minor": 5
}
