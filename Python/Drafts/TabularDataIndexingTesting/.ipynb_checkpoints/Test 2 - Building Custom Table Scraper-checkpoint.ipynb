{
 "cells": [
  {
   "cell_type": "code",
   "execution_count": 1,
   "id": "729189c3",
   "metadata": {},
   "outputs": [],
   "source": [
    "import numpy as np\n",
    "import openai\n",
    "import pandas as pd\n",
    "import pickle\n",
    "import tiktoken\n",
    "\n",
    "COMPLETIONS_MODEL = \"text-davinci-003\"\n",
    "EMBEDDING_MODEL = \"text-embedding-ada-002\""
   ]
  },
  {
   "cell_type": "code",
   "execution_count": 19,
   "id": "6019bb30",
   "metadata": {},
   "outputs": [],
   "source": [
    "openai.api_key = ''"
   ]
  },
  {
   "cell_type": "code",
   "execution_count": 49,
   "id": "74901831",
   "metadata": {},
   "outputs": [],
   "source": [
    "df = pd.read_csv('https://github.com/DWR-Chatbot-Project/Chatbot/raw/main/Regulations/RTCR/Bacti%20Samples%20Table%20from%20dw_regulations_2021_0701_effective_RTCR.csv')"
   ]
  },
  {
   "cell_type": "code",
   "execution_count": 50,
   "id": "bd7a0124",
   "metadata": {},
   "outputs": [
    {
     "name": "stdout",
     "output_type": "stream",
     "text": [
      "34 rows in the data.\n"
     ]
    }
   ],
   "source": [
    "df = df.set_index([\"Monthly Population Served\",\t\"Service Connections\",\"Minimum Number of Samples Per Month\", \"Unnamed: 3\"])\n",
    "print(f\"{len(df)} rows in the data.\")"
   ]
  },
  {
   "cell_type": "code",
   "execution_count": null,
   "id": "000eefc1",
   "metadata": {},
   "outputs": [],
   "source": []
  },
  {
   "cell_type": "code",
   "execution_count": 63,
   "id": "f7d6c56f",
   "metadata": {},
   "outputs": [
    {
     "data": {
      "text/plain": [
       "<generator object DataFrame.iterrows at 0x7fef30815c10>"
      ]
     },
     "execution_count": 63,
     "metadata": {},
     "output_type": "execute_result"
    }
   ],
   "source": [
    "df.iterrows()"
   ]
  },
  {
   "cell_type": "code",
   "execution_count": 64,
   "id": "ebf7f1d3",
   "metadata": {},
   "outputs": [
    {
     "data": {
      "text/plain": [
       "('25 to 1000', '15 to 400', 1, nan)"
      ]
     },
     "execution_count": 64,
     "metadata": {},
     "output_type": "execute_result"
    }
   ],
   "source": [
    "next(df.iterrows())[0]"
   ]
  },
  {
   "cell_type": "code",
   "execution_count": 65,
   "id": "6be07ae5",
   "metadata": {},
   "outputs": [
    {
     "data": {
      "text/plain": [
       "Series([], Name: (25 to 1000, 15 to 400, 1, nan), dtype: float64)"
      ]
     },
     "execution_count": 65,
     "metadata": {},
     "output_type": "execute_result"
    }
   ],
   "source": [
    "next(df.iterrows())[1]"
   ]
  },
  {
   "cell_type": "code",
   "execution_count": 2,
   "id": "e503d35d",
   "metadata": {},
   "outputs": [
    {
     "name": "stdout",
     "output_type": "stream",
     "text": [
      "Categorical columns: ['Monthly Population Served', 'Service Connections']\n",
      "Numerical columns: ['Minimum Number of Samples Per Month', 'Unnamed: 3']\n"
     ]
    }
   ],
   "source": [
    "# 1. identifying categorical vs numerical headline data, label as textual vs. numerical\n",
    "\n",
    "import pandas as pd\n",
    "\n",
    "# Read CSV file into a Pandas DataFrame\n",
    "df = pd.read_csv('https://github.com/DWR-Chatbot-Project/Chatbot/raw/main/Regulations/RTCR/Bacti%20Samples%20Table%20from%20dw_regulations_2021_0701_effective_RTCR.csv')\n",
    "\n",
    "# Initialize lists for categorical and numerical columns\n",
    "cat_cols = []\n",
    "num_cols = []\n",
    "\n",
    "# Iterate over columns and determine data type based on headline\n",
    "for col in df.columns:\n",
    "    if 'category' in col.lower() or 'type' in col.lower():\n",
    "        cat_cols.append(col)\n",
    "    else:\n",
    "        try:\n",
    "            # Convert numerical columns to float type\n",
    "            df[col] = df[col].astype(float)\n",
    "            num_cols.append(col)\n",
    "        except:\n",
    "            # Assume all other columns are categorical columns\n",
    "            cat_cols.append(col)\n",
    "\n",
    "print('Categorical columns:', cat_cols)\n",
    "print('Numerical columns:', num_cols)"
   ]
  },
  {
   "cell_type": "code",
   "execution_count": null,
   "id": "06178ad9",
   "metadata": {},
   "outputs": [],
   "source": []
  }
 ],
 "metadata": {
  "kernelspec": {
   "display_name": "Python 3 (ipykernel)",
   "language": "python",
   "name": "python3"
  },
  "language_info": {
   "codemirror_mode": {
    "name": "ipython",
    "version": 3
   },
   "file_extension": ".py",
   "mimetype": "text/x-python",
   "name": "python",
   "nbconvert_exporter": "python",
   "pygments_lexer": "ipython3",
   "version": "3.9.7"
  }
 },
 "nbformat": 4,
 "nbformat_minor": 5
}
